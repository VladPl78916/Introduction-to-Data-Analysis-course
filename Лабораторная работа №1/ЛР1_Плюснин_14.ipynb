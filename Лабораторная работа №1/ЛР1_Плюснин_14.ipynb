{
  "cells": [
    {
      "cell_type": "markdown",
      "metadata": {
        "id": "bri_pAriNFqN"
      },
      "source": [
        "**Цель работы:**\n",
        "\n",
        "Осуществить предварительную обработку данных csv-файла, выявить и устранить проблемы в этих данных."
      ]
    },
    {
      "cell_type": "markdown",
      "metadata": {
        "id": "r_e-GeJmgZ8l"
      },
      "source": [
        "# Загрузка набора данных"
      ]
    },
    {
      "cell_type": "markdown",
      "metadata": {
        "id": "eeq9ZAbSguQS"
      },
      "source": [
        "### Описание предметной области"
      ]
    },
    {
      "cell_type": "markdown",
      "metadata": {
        "id": "XHbH8zNIg0Ib"
      },
      "source": [
        "Вариант №14\n",
        "\n",
        "Набор данных: clients.csv\n",
        "\n",
        "Атрибуты:\n",
        "..."
      ]
    },
    {
      "cell_type": "markdown",
      "metadata": {
        "id": "Lwin9ia7hT1i"
      },
      "source": [
        "### 1.Чтение файла (набора данных)"
      ]
    },
    {
      "cell_type": "markdown",
      "metadata": {},
      "source": [
        "Импортируем необходимые библиотеки:\n",
        "pandas для работы с данными.\n",
        "Читаем CSV-файл в DataFrame df."
      ]
    },
    {
      "cell_type": "code",
      "execution_count": 199,
      "metadata": {
        "id": "a5dYQO5YhOYa"
      },
      "outputs": [],
      "source": [
        "# импорт библиотек, чтение файла с помощью pandas\n",
        "import pandas as pd\n",
        "\n",
        "df = pd.read_csv('clients.csv', sep=';')"
      ]
    },
    {
      "cell_type": "markdown",
      "metadata": {
        "id": "p82p53SvhjLN"
      },
      "source": [
        "### 2. Обзор данных"
      ]
    },
    {
      "cell_type": "markdown",
      "metadata": {
        "id": "eAYzXaLrh-qh"
      },
      "source": [
        "2.1 Вывод первых 20 строк с помощью метода head."
      ]
    },
    {
      "cell_type": "code",
      "execution_count": 200,
      "metadata": {
        "id": "7yMo3VZ_hotx"
      },
      "outputs": [
        {
          "data": {
            "text/html": [
              "<div>\n",
              "<style scoped>\n",
              "    .dataframe tbody tr th:only-of-type {\n",
              "        vertical-align: middle;\n",
              "    }\n",
              "\n",
              "    .dataframe tbody tr th {\n",
              "        vertical-align: top;\n",
              "    }\n",
              "\n",
              "    .dataframe thead th {\n",
              "        text-align: right;\n",
              "    }\n",
              "</style>\n",
              "<table border=\"1\" class=\"dataframe\">\n",
              "  <thead>\n",
              "    <tr style=\"text-align: right;\">\n",
              "      <th></th>\n",
              "      <th>ID</th>\n",
              "      <th>Year_Birth</th>\n",
              "      <th>Education</th>\n",
              "      <th>Marital_Status</th>\n",
              "      <th>Income</th>\n",
              "      <th>Kidhome</th>\n",
              "      <th>Dt_Customer</th>\n",
              "      <th>NumDealsPurchases</th>\n",
              "    </tr>\n",
              "  </thead>\n",
              "  <tbody>\n",
              "    <tr>\n",
              "      <th>0</th>\n",
              "      <td>5524</td>\n",
              "      <td>1957</td>\n",
              "      <td>Graduation</td>\n",
              "      <td>Single</td>\n",
              "      <td>58138.0</td>\n",
              "      <td>0.0</td>\n",
              "      <td>04.09.2012</td>\n",
              "      <td>3.0</td>\n",
              "    </tr>\n",
              "    <tr>\n",
              "      <th>1</th>\n",
              "      <td>2174</td>\n",
              "      <td>1954</td>\n",
              "      <td>Graduation</td>\n",
              "      <td>Single</td>\n",
              "      <td>46344.0</td>\n",
              "      <td>1.0</td>\n",
              "      <td>08.03.2014</td>\n",
              "      <td>2.0</td>\n",
              "    </tr>\n",
              "    <tr>\n",
              "      <th>2</th>\n",
              "      <td>4141</td>\n",
              "      <td>1965</td>\n",
              "      <td>Graduation</td>\n",
              "      <td>Together</td>\n",
              "      <td>71613.0</td>\n",
              "      <td>0.0</td>\n",
              "      <td>21.08.2013</td>\n",
              "      <td>1.0</td>\n",
              "    </tr>\n",
              "    <tr>\n",
              "      <th>3</th>\n",
              "      <td>6182</td>\n",
              "      <td>1984</td>\n",
              "      <td>Graduation</td>\n",
              "      <td>Together</td>\n",
              "      <td>26646.0</td>\n",
              "      <td>1.0</td>\n",
              "      <td>10.02.2014</td>\n",
              "      <td>2.0</td>\n",
              "    </tr>\n",
              "    <tr>\n",
              "      <th>4</th>\n",
              "      <td>5324</td>\n",
              "      <td>1981</td>\n",
              "      <td>PhD</td>\n",
              "      <td>Married</td>\n",
              "      <td>58293.0</td>\n",
              "      <td>1.0</td>\n",
              "      <td>19.01.2014</td>\n",
              "      <td>5.0</td>\n",
              "    </tr>\n",
              "    <tr>\n",
              "      <th>5</th>\n",
              "      <td>7446</td>\n",
              "      <td>1967</td>\n",
              "      <td>Master</td>\n",
              "      <td>Together</td>\n",
              "      <td>62513.0</td>\n",
              "      <td>0.0</td>\n",
              "      <td>09.09.2013</td>\n",
              "      <td>2.0</td>\n",
              "    </tr>\n",
              "    <tr>\n",
              "      <th>6</th>\n",
              "      <td>965</td>\n",
              "      <td>1971</td>\n",
              "      <td>Graduation</td>\n",
              "      <td>Divorced</td>\n",
              "      <td>55635.0</td>\n",
              "      <td>0.0</td>\n",
              "      <td>13.11.2012</td>\n",
              "      <td>4.0</td>\n",
              "    </tr>\n",
              "    <tr>\n",
              "      <th>7</th>\n",
              "      <td>6177</td>\n",
              "      <td>1985</td>\n",
              "      <td>PhD</td>\n",
              "      <td>Married</td>\n",
              "      <td>33454.0</td>\n",
              "      <td>1.0</td>\n",
              "      <td>08.05.2013</td>\n",
              "      <td>2.0</td>\n",
              "    </tr>\n",
              "    <tr>\n",
              "      <th>8</th>\n",
              "      <td>4855</td>\n",
              "      <td>1974</td>\n",
              "      <td>PhD</td>\n",
              "      <td>Together</td>\n",
              "      <td>30351.0</td>\n",
              "      <td>1.0</td>\n",
              "      <td>06.06.2013</td>\n",
              "      <td>1.0</td>\n",
              "    </tr>\n",
              "    <tr>\n",
              "      <th>9</th>\n",
              "      <td>5899</td>\n",
              "      <td>1950</td>\n",
              "      <td>PhD</td>\n",
              "      <td>Together</td>\n",
              "      <td>5648.0</td>\n",
              "      <td>1.0</td>\n",
              "      <td>13.03.2014</td>\n",
              "      <td>1.0</td>\n",
              "    </tr>\n",
              "    <tr>\n",
              "      <th>10</th>\n",
              "      <td>1994</td>\n",
              "      <td>1983</td>\n",
              "      <td>Graduation</td>\n",
              "      <td>MARRIED</td>\n",
              "      <td>NaN</td>\n",
              "      <td>NaN</td>\n",
              "      <td>NaN</td>\n",
              "      <td>NaN</td>\n",
              "    </tr>\n",
              "    <tr>\n",
              "      <th>11</th>\n",
              "      <td>387</td>\n",
              "      <td>1976</td>\n",
              "      <td>Basic</td>\n",
              "      <td>Married</td>\n",
              "      <td>7500.0</td>\n",
              "      <td>0.0</td>\n",
              "      <td>13.11.2012</td>\n",
              "      <td>1.0</td>\n",
              "    </tr>\n",
              "    <tr>\n",
              "      <th>12</th>\n",
              "      <td>2125</td>\n",
              "      <td>1959</td>\n",
              "      <td>Graduation</td>\n",
              "      <td>Divorced</td>\n",
              "      <td>63033.0</td>\n",
              "      <td>0.0</td>\n",
              "      <td>15.11.2013</td>\n",
              "      <td>1.0</td>\n",
              "    </tr>\n",
              "    <tr>\n",
              "      <th>13</th>\n",
              "      <td>8180</td>\n",
              "      <td>1952</td>\n",
              "      <td>Master</td>\n",
              "      <td>Divorced</td>\n",
              "      <td>59354.0</td>\n",
              "      <td>1.0</td>\n",
              "      <td>15.11.2013</td>\n",
              "      <td>3.0</td>\n",
              "    </tr>\n",
              "    <tr>\n",
              "      <th>14</th>\n",
              "      <td>2569</td>\n",
              "      <td>1987</td>\n",
              "      <td>Graduation</td>\n",
              "      <td>Married</td>\n",
              "      <td>17323.0</td>\n",
              "      <td>0.0</td>\n",
              "      <td>10.10.2012</td>\n",
              "      <td>1.0</td>\n",
              "    </tr>\n",
              "    <tr>\n",
              "      <th>15</th>\n",
              "      <td>2114</td>\n",
              "      <td>1946</td>\n",
              "      <td>PhD</td>\n",
              "      <td>SINGL</td>\n",
              "      <td>82800.0</td>\n",
              "      <td>0.0</td>\n",
              "      <td>24.11.2012</td>\n",
              "      <td>1.0</td>\n",
              "    </tr>\n",
              "    <tr>\n",
              "      <th>16</th>\n",
              "      <td>9736</td>\n",
              "      <td>1980</td>\n",
              "      <td>Graduation</td>\n",
              "      <td>Married</td>\n",
              "      <td>41850.0</td>\n",
              "      <td>1.0</td>\n",
              "      <td>24.12.2012</td>\n",
              "      <td>3.0</td>\n",
              "    </tr>\n",
              "    <tr>\n",
              "      <th>17</th>\n",
              "      <td>4939</td>\n",
              "      <td>1946</td>\n",
              "      <td>Graduation</td>\n",
              "      <td>Together</td>\n",
              "      <td>37760.0</td>\n",
              "      <td>0.0</td>\n",
              "      <td>31.08.2012</td>\n",
              "      <td>2.0</td>\n",
              "    </tr>\n",
              "    <tr>\n",
              "      <th>18</th>\n",
              "      <td>6565</td>\n",
              "      <td>1949</td>\n",
              "      <td>Master</td>\n",
              "      <td>Married</td>\n",
              "      <td>76995.0</td>\n",
              "      <td>0.0</td>\n",
              "      <td>28.03.2013</td>\n",
              "      <td>2.0</td>\n",
              "    </tr>\n",
              "    <tr>\n",
              "      <th>19</th>\n",
              "      <td>9360</td>\n",
              "      <td>1982</td>\n",
              "      <td>Graduation</td>\n",
              "      <td>Married</td>\n",
              "      <td>37040.0</td>\n",
              "      <td>0.0</td>\n",
              "      <td>08.08.2012</td>\n",
              "      <td>1.0</td>\n",
              "    </tr>\n",
              "  </tbody>\n",
              "</table>\n",
              "</div>"
            ],
            "text/plain": [
              "      ID  Year_Birth   Education Marital_Status   Income  Kidhome Dt_Customer  \\\n",
              "0   5524        1957  Graduation         Single  58138.0      0.0  04.09.2012   \n",
              "1   2174        1954  Graduation         Single  46344.0      1.0  08.03.2014   \n",
              "2   4141        1965  Graduation       Together  71613.0      0.0  21.08.2013   \n",
              "3   6182        1984  Graduation       Together  26646.0      1.0  10.02.2014   \n",
              "4   5324        1981         PhD        Married  58293.0      1.0  19.01.2014   \n",
              "5   7446        1967      Master       Together  62513.0      0.0  09.09.2013   \n",
              "6    965        1971  Graduation       Divorced  55635.0      0.0  13.11.2012   \n",
              "7   6177        1985         PhD        Married  33454.0      1.0  08.05.2013   \n",
              "8   4855        1974         PhD       Together  30351.0      1.0  06.06.2013   \n",
              "9   5899        1950         PhD       Together   5648.0      1.0  13.03.2014   \n",
              "10  1994        1983  Graduation        MARRIED      NaN      NaN         NaN   \n",
              "11   387        1976       Basic        Married   7500.0      0.0  13.11.2012   \n",
              "12  2125        1959  Graduation       Divorced  63033.0      0.0  15.11.2013   \n",
              "13  8180        1952      Master       Divorced  59354.0      1.0  15.11.2013   \n",
              "14  2569        1987  Graduation        Married  17323.0      0.0  10.10.2012   \n",
              "15  2114        1946         PhD          SINGL  82800.0      0.0  24.11.2012   \n",
              "16  9736        1980  Graduation        Married  41850.0      1.0  24.12.2012   \n",
              "17  4939        1946  Graduation       Together  37760.0      0.0  31.08.2012   \n",
              "18  6565        1949      Master        Married  76995.0      0.0  28.03.2013   \n",
              "19  9360        1982  Graduation        Married  37040.0      0.0  08.08.2012   \n",
              "\n",
              "    NumDealsPurchases  \n",
              "0                 3.0  \n",
              "1                 2.0  \n",
              "2                 1.0  \n",
              "3                 2.0  \n",
              "4                 5.0  \n",
              "5                 2.0  \n",
              "6                 4.0  \n",
              "7                 2.0  \n",
              "8                 1.0  \n",
              "9                 1.0  \n",
              "10                NaN  \n",
              "11                1.0  \n",
              "12                1.0  \n",
              "13                3.0  \n",
              "14                1.0  \n",
              "15                1.0  \n",
              "16                3.0  \n",
              "17                2.0  \n",
              "18                2.0  \n",
              "19                1.0  "
            ]
          },
          "execution_count": 200,
          "metadata": {},
          "output_type": "execute_result"
        }
      ],
      "source": [
        "# применить метод head\n",
        "df.head(20)"
      ]
    },
    {
      "cell_type": "markdown",
      "metadata": {
        "id": "Ze-lXxLMhpWv"
      },
      "source": [
        "2.2 Оценка данных с помощью метода info."
      ]
    },
    {
      "cell_type": "code",
      "execution_count": 201,
      "metadata": {
        "id": "bjhngmaLiGM-"
      },
      "outputs": [
        {
          "name": "stdout",
          "output_type": "stream",
          "text": [
            "<class 'pandas.core.frame.DataFrame'>\n",
            "RangeIndex: 796 entries, 0 to 795\n",
            "Data columns (total 8 columns):\n",
            " #   Column             Non-Null Count  Dtype  \n",
            "---  ------             --------------  -----  \n",
            " 0   ID                 796 non-null    int64  \n",
            " 1   Year_Birth         796 non-null    int64  \n",
            " 2   Education          796 non-null    object \n",
            " 3   Marital_Status     796 non-null    object \n",
            " 4   Income             784 non-null    float64\n",
            " 5   Kidhome            795 non-null    float64\n",
            " 6   Dt_Customer        795 non-null    object \n",
            " 7   NumDealsPurchases  795 non-null    float64\n",
            "dtypes: float64(3), int64(2), object(3)\n",
            "memory usage: 49.9+ KB\n"
          ]
        }
      ],
      "source": [
        "# выполнит метод info\n",
        "df.info()"
      ]
    },
    {
      "cell_type": "markdown",
      "metadata": {
        "id": "06PDq9DAiMAY"
      },
      "source": [
        "2.3 Оценка данных с помощью метода describe."
      ]
    },
    {
      "cell_type": "code",
      "execution_count": 202,
      "metadata": {
        "id": "cTVFwzO1jQfN"
      },
      "outputs": [
        {
          "data": {
            "text/html": [
              "<div>\n",
              "<style scoped>\n",
              "    .dataframe tbody tr th:only-of-type {\n",
              "        vertical-align: middle;\n",
              "    }\n",
              "\n",
              "    .dataframe tbody tr th {\n",
              "        vertical-align: top;\n",
              "    }\n",
              "\n",
              "    .dataframe thead th {\n",
              "        text-align: right;\n",
              "    }\n",
              "</style>\n",
              "<table border=\"1\" class=\"dataframe\">\n",
              "  <thead>\n",
              "    <tr style=\"text-align: right;\">\n",
              "      <th></th>\n",
              "      <th>ID</th>\n",
              "      <th>Year_Birth</th>\n",
              "      <th>Income</th>\n",
              "      <th>Kidhome</th>\n",
              "      <th>NumDealsPurchases</th>\n",
              "    </tr>\n",
              "  </thead>\n",
              "  <tbody>\n",
              "    <tr>\n",
              "      <th>count</th>\n",
              "      <td>796.000000</td>\n",
              "      <td>796.000000</td>\n",
              "      <td>784.00000</td>\n",
              "      <td>795.000000</td>\n",
              "      <td>795.000000</td>\n",
              "    </tr>\n",
              "    <tr>\n",
              "      <th>mean</th>\n",
              "      <td>5630.133166</td>\n",
              "      <td>1968.356784</td>\n",
              "      <td>53130.07398</td>\n",
              "      <td>0.438994</td>\n",
              "      <td>2.314465</td>\n",
              "    </tr>\n",
              "    <tr>\n",
              "      <th>std</th>\n",
              "      <td>3273.039715</td>\n",
              "      <td>12.022132</td>\n",
              "      <td>21818.56876</td>\n",
              "      <td>0.547252</td>\n",
              "      <td>1.941650</td>\n",
              "    </tr>\n",
              "    <tr>\n",
              "      <th>min</th>\n",
              "      <td>0.000000</td>\n",
              "      <td>1899.000000</td>\n",
              "      <td>2447.00000</td>\n",
              "      <td>0.000000</td>\n",
              "      <td>0.000000</td>\n",
              "    </tr>\n",
              "    <tr>\n",
              "      <th>25%</th>\n",
              "      <td>2853.000000</td>\n",
              "      <td>1959.000000</td>\n",
              "      <td>36141.75000</td>\n",
              "      <td>0.000000</td>\n",
              "      <td>1.000000</td>\n",
              "    </tr>\n",
              "    <tr>\n",
              "      <th>50%</th>\n",
              "      <td>5563.000000</td>\n",
              "      <td>1969.500000</td>\n",
              "      <td>52372.50000</td>\n",
              "      <td>0.000000</td>\n",
              "      <td>2.000000</td>\n",
              "    </tr>\n",
              "    <tr>\n",
              "      <th>75%</th>\n",
              "      <td>8584.250000</td>\n",
              "      <td>1977.000000</td>\n",
              "      <td>69293.25000</td>\n",
              "      <td>1.000000</td>\n",
              "      <td>3.000000</td>\n",
              "    </tr>\n",
              "    <tr>\n",
              "      <th>max</th>\n",
              "      <td>11191.000000</td>\n",
              "      <td>1995.000000</td>\n",
              "      <td>162397.00000</td>\n",
              "      <td>2.000000</td>\n",
              "      <td>15.000000</td>\n",
              "    </tr>\n",
              "  </tbody>\n",
              "</table>\n",
              "</div>"
            ],
            "text/plain": [
              "                 ID   Year_Birth        Income     Kidhome  NumDealsPurchases\n",
              "count    796.000000   796.000000     784.00000  795.000000         795.000000\n",
              "mean    5630.133166  1968.356784   53130.07398    0.438994           2.314465\n",
              "std     3273.039715    12.022132   21818.56876    0.547252           1.941650\n",
              "min        0.000000  1899.000000    2447.00000    0.000000           0.000000\n",
              "25%     2853.000000  1959.000000   36141.75000    0.000000           1.000000\n",
              "50%     5563.000000  1969.500000   52372.50000    0.000000           2.000000\n",
              "75%     8584.250000  1977.000000   69293.25000    1.000000           3.000000\n",
              "max    11191.000000  1995.000000  162397.00000    2.000000          15.000000"
            ]
          },
          "execution_count": 202,
          "metadata": {},
          "output_type": "execute_result"
        }
      ],
      "source": [
        "# оцените числовые столбцы с помощью describe\n",
        "df.describe()"
      ]
    },
    {
      "cell_type": "markdown",
      "metadata": {
        "id": "oOZUrZGuiGqc"
      },
      "source": [
        "\n",
        "---\n",
        "\n",
        "**Сделать выводы. Вы должны понимать, что означает тот или иной столбец, чтобы\n",
        " ответить на вопросы на защите.**\n",
        "\n",
        "\n",
        " ---\n"
      ]
    },
    {
      "cell_type": "markdown",
      "metadata": {},
      "source": [
        "### Промежуточный вывод о данных\n",
        "\n",
        "Данные содержат 796 записей о клиентах магазина с 8 признаками, включая уникальный идентификатор, год рождения, уровень образования, семейное положение, доход, количество детей, дату регистрации и количество покупок.\n",
        "\n",
        "Типы данных:\n",
        "Числовые: ID, Year_Birth, Income, Kidhome, NumDealsPurchases.\n",
        "\n",
        "Категориальные: Education, Marital_Status, Dt_Customer.\n",
        "\n",
        "Пропуски:\n",
        "\n",
        "Income — 12 пропущенных значений, Kidhome и NumDealsPurchases — по 1 пропущенному значению."
      ]
    },
    {
      "cell_type": "markdown",
      "metadata": {
        "id": "JTbo0IGDiHxn"
      },
      "source": [
        " 2.4 Оценка названий столбцов"
      ]
    },
    {
      "cell_type": "code",
      "execution_count": 203,
      "metadata": {
        "id": "9NEyi2Odik3e"
      },
      "outputs": [
        {
          "data": {
            "text/plain": [
              "Index(['ID', 'Year_Birth', 'Education', 'Marital_Status', 'Income', 'Kidhome',\n",
              "       'Dt_Customer', 'NumDealsPurchases'],\n",
              "      dtype='object')"
            ]
          },
          "execution_count": 203,
          "metadata": {},
          "output_type": "execute_result"
        }
      ],
      "source": [
        "# Вывести на экран названия столбцов с помощью df.columns. Выявить проблемы с названиями, если они есть. При необходимости переименовать столбцы. Если проблемы не обнаружены также дать пояснения.\n",
        "df.columns"
      ]
    },
    {
      "cell_type": "code",
      "execution_count": 204,
      "metadata": {},
      "outputs": [
        {
          "name": "stdout",
          "output_type": "stream",
          "text": [
            "Проблем не обнаружено\n"
          ]
        }
      ],
      "source": [
        "# Проверка на наличие возможных проблем\n",
        "problems_found = []\n",
        "\n",
        "for col in df.columns:\n",
        "    if col != col.strip():\n",
        "        problems_found.append(f\"Столбец '{col}' имеет пробелы в начале или конце\")\n",
        "\n",
        "for col in df.columns:\n",
        "    if any(char in col for char in [' ', '.', '-', '/', '\\\\', '(', ')', '[', ']', '{', '}']):\n",
        "        problems_found.append(f\"Столбец '{col}' содержит специальные символы или пробелы\")\n",
        "\n",
        "if problems_found:\n",
        "    print(\"Обнаружены проблемы в названиях столбцов:\")\n",
        "    for problem in problems_found:\n",
        "        print(f\"- {problem}\")\n",
        "else:\n",
        "    print(\"Проблем не обнаружено\")"
      ]
    },
    {
      "cell_type": "code",
      "execution_count": 205,
      "metadata": {
        "id": "QSJBLl4qjjP8"
      },
      "outputs": [
        {
          "name": "stdout",
          "output_type": "stream",
          "text": [
            "Обновленные названия столбцов:\n",
            "['customer_id', 'birth_year', 'education', 'marital_status', 'income', 'kids_home', 'customer_since', 'num_deals_purchases']\n"
          ]
        }
      ],
      "source": [
        "df.rename(columns={\n",
        "    'ID': 'customer_id',\n",
        "    'Year_Birth': 'birth_year',\n",
        "    'Education': 'education',\n",
        "    'Marital_Status': 'marital_status',\n",
        "    'Income': 'income',\n",
        "    'Kidhome': 'kids_home',\n",
        "    'Dt_Customer': 'customer_since',\n",
        "    'NumDealsPurchases': 'num_deals_purchases'\n",
        "}, inplace=True)\n",
        "\n",
        "print(\"Обновленные названия столбцов:\")\n",
        "print(df.columns.tolist())"
      ]
    },
    {
      "cell_type": "markdown",
      "metadata": {},
      "source": [
        "### Анализ и коррекция названий столбцов\n",
        "\n",
        "Был проведен анализ названий столбцов на предмет наличия проблем:\n",
        "- Проверка на пробелы в начале/конце названий\n",
        "- Проверка на наличие специальных символов и пробелов\n",
        "\n",
        "После анализа выполнено переименование столбцов для улучшения читаемости и удобства работы:\n",
        "- `ID` → `customer_id`\n",
        "- `Year_Birth` → `birth_year`\n",
        "- `Education` → `education`\n",
        "- `Marital_Status` → `marital_status`\n",
        "- `Income` → `income`\n",
        "- `Kidhome` → `kids_home`\n",
        "- `Dt_Customer` → `customer_since`\n",
        "- `NumDealsPurchases` → `num_deals_purchases`\n",
        "\n",
        "В конце выводится обновленный список названий столбцов для подтверждения изменений."
      ]
    },
    {
      "cell_type": "markdown",
      "metadata": {
        "id": "V0tLQcyrjnA_"
      },
      "source": [
        "### 3. Проверка пропусков"
      ]
    },
    {
      "cell_type": "code",
      "execution_count": 206,
      "metadata": {
        "id": "xuTz-Avjj9AW"
      },
      "outputs": [
        {
          "name": "stdout",
          "output_type": "stream",
          "text": [
            "income                 12\n",
            "kids_home               1\n",
            "customer_since          1\n",
            "num_deals_purchases     1\n",
            "dtype: int64\n",
            "Заполнено 12 пропусков в числовом столбце 'income' медианой: 52372.5\n",
            "Заполнено 1 пропусков в числовом столбце 'kids_home' медианой: 0.0\n",
            "Заполнено 1 пропусков в числовом столбце 'num_deals_purchases' медианой: 2.0\n",
            "Заполнено 1 пропусков в столбце 'customer_since' модой: '01.03.2014'\n",
            "\n",
            "Все пропуски успешно обработаны!\n"
          ]
        }
      ],
      "source": [
        "# Проверить данные на наличие пропусков и устранить их\n",
        "import numpy as np\n",
        "\n",
        "# Проверка пропусков\n",
        "missing_data = df.isnull().sum()\n",
        "print(missing_data[missing_data > 0])\n",
        "\n",
        "if missing_data.any():\n",
        "    # Для числовых столбцов\n",
        "    numeric_cols = df.select_dtypes(include=[np.number]).columns\n",
        "    for col in numeric_cols:\n",
        "        if missing_data[col] > 0:\n",
        "            median_val = df[col].median()\n",
        "            df[col] = df[col].fillna(median_val)\n",
        "            print(f\"Заполнено {missing_data[col]} пропусков в числовом столбце '{col}' медианой: {median_val}\")\n",
        "    \n",
        "    # Для всех остальных столбцов\n",
        "    other_cols = df.columns.difference(numeric_cols)\n",
        "    for col in other_cols:\n",
        "        if missing_data[col] > 0:\n",
        "            # Для строковых/категориальных данных используем моду\n",
        "            if df[col].dtype == 'object':\n",
        "                mode_val = df[col].mode()[0] if not df[col].mode().empty else 'Unknown'\n",
        "                df[col] = df[col].fillna(mode_val)\n",
        "                print(f\"Заполнено {missing_data[col]} пропусков в столбце '{col}' модой: '{mode_val}'\")\n",
        "            \n",
        "    remaining_missing = df.isnull().sum().sum()\n",
        "    if remaining_missing == 0:\n",
        "        print(\"\\nВсе пропуски успешно обработаны!\")\n",
        "    else:\n",
        "        print(f\"\\nОсталось {remaining_missing} пропусков, требующих дополнительного анализа.\")\n",
        "        print(\"Столбцы с оставшимися пропусками:\")\n",
        "        print(df.isnull().sum()[df.isnull().sum() > 0])\n",
        "else:\n",
        "    print(\"Пропуски в данных отсутствуют.\")"
      ]
    },
    {
      "cell_type": "code",
      "execution_count": 207,
      "metadata": {},
      "outputs": [
        {
          "name": "stdout",
          "output_type": "stream",
          "text": [
            "Пропуски в данных:\n",
            "Series([], dtype: int64)\n"
          ]
        }
      ],
      "source": [
        "missing_data = df.isnull().sum()\n",
        "print(\"Пропуски в данных:\")\n",
        "print(missing_data[missing_data > 0])"
      ]
    },
    {
      "cell_type": "markdown",
      "metadata": {},
      "source": [
        "### Выбранные стратегии обработки пропусков:\n",
        "\n",
        "1. **Заполнение числовых данных медианой**:\n",
        "   - **Обоснование**: Медиана более устойчива к выбросам, чем среднее значение\n",
        "   - **Преимущество**: Сохраняет общее распределение данных без смещения в сторону экстремальных значений\n",
        "\n",
        "2. **Заполнение категориальных данных модой**:\n",
        "   - **Обоснование**: Мода представляет наиболее часто встречающееся значение\n",
        "   - **Преимущество**: Сохраняет исходное распределение категориальных переменных\n",
        "\n",
        "### Альтернативные методы\n",
        "\n",
        "1. **Удаление строк с пропусками**:\n",
        "   - **Недостаток**: Потеря данных и возможное смещение выборки\n",
        "   - **Когда уместно**: Только при малом количестве пропусков (<1%)\n",
        "\n",
        "2. **Прогнозирование пропущенных значений**:\n",
        "   - **Методы**: Машинное обучение (регрессия/классификация)\n",
        "   - **Преимущество**: Более точное восстановление значений\n",
        "   - **Недостаток**: Вычислительная сложность и риск переобучения\n",
        "\n",
        "3. **Интерполяция для временных рядов**:\n",
        "   - **Применимость**: Для данных с временной компонентой\n",
        "   - **Методы**: Линейная, полиномиальная интерполяция\n",
        "\n",
        "4. **Создание отдельной категории \"Unknown\"**:\n",
        "   - **Применимость**: Для категориальных данных\n",
        "   - **Преимущество**: Сохранение информации о наличии пропуска\n",
        "\n",
        "### Критерии выбора метода:\n",
        "- Процент пропущенных значений (<5% - заполнение, >30% - удаление столбца)\n",
        "- Тип данных (числовой/категориальный/временной)\n",
        "- Важность признака для дальнейшего анализа\n",
        "- Сохранение распределения и статистических свойств данных"
      ]
    },
    {
      "cell_type": "markdown",
      "metadata": {
        "id": "efZ7vgSVkPQH"
      },
      "source": [
        "\n",
        "---\n",
        "\n",
        "**Вы должны аргументировать на защите, почему были выполнены те или иные действия с пропусками, а также знать другие способы работы с пропусками, чтобы\n",
        " ответить на вопросы на защите.**\n",
        "\n",
        "\n",
        " ---"
      ]
    },
    {
      "cell_type": "markdown",
      "metadata": {
        "id": "kkyrXXHikEXk"
      },
      "source": [
        "### 4. Проверка дубликатов"
      ]
    },
    {
      "cell_type": "markdown",
      "metadata": {
        "id": "ImqHvr3okIQ6"
      },
      "source": [
        "#### Проверка явных дубликатов"
      ]
    },
    {
      "cell_type": "code",
      "execution_count": 208,
      "metadata": {
        "id": "qu1oh-e5lDZ1"
      },
      "outputs": [
        {
          "name": "stdout",
          "output_type": "stream",
          "text": [
            "Количество полных дубликатов в данных: 4\n"
          ]
        }
      ],
      "source": [
        "# Проверка на наличие явных дубликатов\n",
        "duplicates_count = df.duplicated().sum()\n",
        "print(f\"Количество полных дубликатов в данных: {duplicates_count}\")"
      ]
    },
    {
      "cell_type": "code",
      "execution_count": 209,
      "metadata": {
        "id": "ntArgvChkK26"
      },
      "outputs": [
        {
          "name": "stdout",
          "output_type": "stream",
          "text": [
            "Удалено 4 дубликатов.\n"
          ]
        }
      ],
      "source": [
        "# удалите дубликаты, если они есть\n",
        "if duplicates_count > 0:\n",
        "    df = df.drop_duplicates(keep='first')\n",
        "    print(f\"Удалено {duplicates_count} дубликатов.\")"
      ]
    },
    {
      "cell_type": "markdown",
      "metadata": {
        "id": "VeHTMcOmkLSw"
      },
      "source": [
        "#### Проверка неявных дубликатов"
      ]
    },
    {
      "cell_type": "code",
      "execution_count": 210,
      "metadata": {
        "id": "-uOPKHlVlGo8"
      },
      "outputs": [
        {
          "name": "stdout",
          "output_type": "stream",
          "text": [
            "Количество неявных дубликатов: 48\n",
            "\n",
            "Примеры неявных дубликатов:\n",
            "     customer_id  birth_year   education marital_status   income  kids_home  \\\n",
            "17          4939        1946  Graduation       Together  37760.0        0.0   \n",
            "259         8652        1946  Graduation       Together  37760.0        0.0   \n",
            "23          1409        1951  Graduation       Together  40689.0        0.0   \n",
            "533         5314        1951  Graduation       Together  40689.0        0.0   \n",
            "401         9347        1956      Master       Together  50943.0        0.0   \n",
            "\n",
            "    customer_since  num_deals_purchases  \n",
            "17      31.08.2012                  2.0  \n",
            "259     31.08.2012                  2.0  \n",
            "23      18.03.2013                  7.0  \n",
            "533     18.03.2013                  7.0  \n",
            "401     21.06.2013                  1.0  \n"
          ]
        }
      ],
      "source": [
        "# Проверка неявных дубликатов по ключевым признакам\n",
        "subset_columns = ['birth_year', 'income', 'customer_since', 'marital_status']\n",
        "implicit_duplicates = df.duplicated(subset=subset_columns, keep=False)\n",
        "\n",
        "# Количество неявных дубликатов\n",
        "duplicate_count = implicit_duplicates.sum()\n",
        "print(f\"Количество неявных дубликатов: {duplicate_count}\")\n",
        "\n",
        "# Примеры неявных дубликатов (если они есть)\n",
        "if duplicate_count > 0:\n",
        "    print(\"\\nПримеры неявных дубликатов:\")\n",
        "    print(df[implicit_duplicates].sort_values(by=subset_columns).head())"
      ]
    },
    {
      "cell_type": "code",
      "execution_count": 211,
      "metadata": {
        "id": "89tMFEQ2k_M7"
      },
      "outputs": [
        {
          "name": "stdout",
          "output_type": "stream",
          "text": [
            "Данные после удаления неявных дубликатов:\n",
            "<class 'pandas.core.frame.DataFrame'>\n",
            "RangeIndex: 768 entries, 0 to 767\n",
            "Data columns (total 8 columns):\n",
            " #   Column               Non-Null Count  Dtype  \n",
            "---  ------               --------------  -----  \n",
            " 0   customer_id          768 non-null    int64  \n",
            " 1   birth_year           768 non-null    int64  \n",
            " 2   education            768 non-null    object \n",
            " 3   marital_status       768 non-null    object \n",
            " 4   income               768 non-null    float64\n",
            " 5   kids_home            768 non-null    float64\n",
            " 6   customer_since       768 non-null    object \n",
            " 7   num_deals_purchases  768 non-null    float64\n",
            "dtypes: float64(3), int64(2), object(3)\n",
            "memory usage: 48.1+ KB\n",
            "None\n"
          ]
        }
      ],
      "source": [
        "# удалите дубликаты, если они \n",
        "subset_columns = ['birth_year', 'income', 'customer_since', 'marital_status']\n",
        "df = df.drop_duplicates(subset=subset_columns, keep='first', ignore_index=True)\n",
        "\n",
        "print(\"Данные после удаления неявных дубликатов:\")\n",
        "print(df.info())"
      ]
    },
    {
      "cell_type": "markdown",
      "metadata": {},
      "source": [
        "1. **Выбор ключевых признаков**:\n",
        "   - Код использует подмножество столбцов: `['birth_year', 'income', 'customer_since', 'marital_status']`\n",
        "   - Эти поля выбраны как комбинация, которая с высокой вероятностью должна быть уникальной для каждого клиента\n",
        "\n",
        "2. **Поиск дубликатов**:\n",
        "   - Метод `df.duplicated(subset=subset_columns, keep=False)` находит все строки, где комбинация указанных столбцов совпадает\n",
        "   - Параметр `keep=False` помечает все дубликаты (а не только вторые и последующие вхождения)\n",
        "\n",
        "3. **Анализ результатов**:\n",
        "   - Подсчитывается количество неявных дубликатов\n",
        "   - При наличии дубликатов выводятся примеры для визуальной проверки\n",
        "\n",
        "- Записи не являются полными копиями (различаются в других столбцах)\n",
        "- Но совпадают по ключевым идентифицирующим признакам"
      ]
    },
    {
      "cell_type": "markdown",
      "metadata": {
        "id": "GMcnDpOmlKhU"
      },
      "source": [
        "---\n",
        "\n",
        "**Вы должны аргументировать на защите, почему были выполнены те или иные действия с дубликатами, знать, что такое явные и неявные дубликаты и способы работы с ними, чтобы ответить на вопросы на защите.**\n",
        "\n",
        "\n",
        " ---"
      ]
    },
    {
      "cell_type": "markdown",
      "metadata": {
        "id": "md9GhfYMlbi7"
      },
      "source": [
        "### 5. Провека типов данных"
      ]
    },
    {
      "cell_type": "code",
      "execution_count": 212,
      "metadata": {
        "id": "lXTroENaluCW"
      },
      "outputs": [
        {
          "data": {
            "text/plain": [
              "customer_id              int64\n",
              "birth_year               int64\n",
              "education               object\n",
              "marital_status          object\n",
              "income                 float64\n",
              "kids_home              float64\n",
              "customer_since          object\n",
              "num_deals_purchases    float64\n",
              "dtype: object"
            ]
          },
          "execution_count": 212,
          "metadata": {},
          "output_type": "execute_result"
        }
      ],
      "source": [
        "df.dtypes"
      ]
    },
    {
      "cell_type": "code",
      "execution_count": 213,
      "metadata": {
        "id": "WXhXgu29lop3"
      },
      "outputs": [
        {
          "name": "stdout",
          "output_type": "stream",
          "text": [
            "Итоговые типы данных:\n",
            "customer_id                     int64\n",
            "birth_year                      int64\n",
            "education                    category\n",
            "marital_status               category\n",
            "income                        float64\n",
            "kids_home                       int64\n",
            "customer_since         datetime64[ns]\n",
            "num_deals_purchases             int64\n",
            "dtype: object\n"
          ]
        }
      ],
      "source": [
        "# Проверьте типы данных, при необходимости измените типы данных, чтобы они соот ветствовали действительности.\n",
        "# Преобразуем дату регистрации в datetime\n",
        "df['customer_since'] = pd.to_datetime(df['customer_since'], format='%d.%m.%Y')\n",
        "# Проверяем целочисленность и конвертируем столбцы с количественными данными\n",
        "for col in ['kids_home', 'num_deals_purchases', 'income']:\n",
        "    if (df[col] % 1 == 0).all():\n",
        "        df[col] = df[col].astype('int64')\n",
        "\n",
        "df['education'] = df['education'].astype('category')\n",
        "df['marital_status'] = df['marital_status'].astype('category')\n",
        "\n",
        "print(\"Итоговые типы данных:\")\n",
        "print(df.dtypes)"
      ]
    },
    {
      "cell_type": "markdown",
      "metadata": {},
      "source": [
        "Столбец customer_since имеет тип object (строка в формате DD.MM.YYYY), что затрудняет временной анализ. Его необходимо преобразовать в тип datetime для корректной работы с датами. Столбцы kids_home и num_deals_purchases указаны как float64, но количество детей и покупок должно быть целочисленным — их необходимо преобразовать в тип int64. Для категориальных признаков education и marital_status текущий тип object не оптимален: данные в этих столбцах содержат ограниченный набор значений (например, Graduation, Master, Together, Married), поэтому их необходимо перевести в тип category для экономии памяти и ускорения операций группировки. После внесения изменений все числовые показатели будут соответствовать логической структуре данных, а временные и категориальные признаки — поддерживать эффективный анализ."
      ]
    },
    {
      "cell_type": "markdown",
      "metadata": {
        "id": "DPDBNN4dlx7W"
      },
      "source": [
        "---\n",
        "\n",
        "**Обратите внимание, что во всех вариантах необходимо сделать приведение типов. Будьте готовы на защите аргументировать проверку типов (почему выполнены те или иные преобразования).**\n",
        "\n",
        "\n",
        " ---"
      ]
    },
    {
      "cell_type": "markdown",
      "metadata": {
        "id": "lzr0SgqlnmHy"
      },
      "source": [
        "### 6. Группировка данных"
      ]
    },
    {
      "cell_type": "markdown",
      "metadata": {
        "id": "QG_dbwzfmZoS"
      },
      "source": [
        "#### Задание 1"
      ]
    },
    {
      "cell_type": "markdown",
      "metadata": {
        "id": "CyCKTB4DmciW"
      },
      "source": [
        "*`Формулировка задания`*\n",
        "Задание 1 : Группировка - тип образования по каждому семейному статусу\n",
        "(marital_status)"
      ]
    },
    {
      "cell_type": "code",
      "execution_count": 214,
      "metadata": {
        "id": "tp8Bl1gumYlI"
      },
      "outputs": [
        {
          "name": "stdout",
          "output_type": "stream",
          "text": [
            "Распределение типов образования по семейному статусу:\n",
            "education       Basic  Graduation  Master  PhD  Всего\n",
            "marital_status                                       \n",
            "Alone               0           1       1    1      3\n",
            "Divorced            1          49      12   23     85\n",
            "MARRIED             0           2       0    0      2\n",
            "Married             9         161      56   69    295\n",
            "SINGL               0           0       0    1      1\n",
            "Single              1         101      30   39    171\n",
            "Together            4          91      39   50    184\n",
            "Widow               0          19       4    4     27\n",
            "Всего              15         424     142  187    768\n"
          ]
        }
      ],
      "source": [
        "# выполните группировку согласно варианту\n",
        "education_by_marital = pd.crosstab(\n",
        "    df['marital_status'], \n",
        "    df['education'], \n",
        "    margins=True,\n",
        "    margins_name='Всего'\n",
        ")\n",
        "\n",
        "print(\"Распределение типов образования по семейному статусу:\")\n",
        "print(education_by_marital)"
      ]
    },
    {
      "cell_type": "code",
      "execution_count": 215,
      "metadata": {},
      "outputs": [
        {
          "name": "stdout",
          "output_type": "stream",
          "text": [
            "Распределение клиентов по образованию и семейному статусу:\n",
            "Basic    Alone    0\n",
            "Basic    Divorced    1\n",
            "Basic    MARRIED    0\n",
            "Basic    Married    9\n",
            "Basic    SINGL    0\n",
            "Basic    Single    1\n",
            "Basic    Together    4\n",
            "Basic    Widow    0\n",
            "Graduation    Alone    1\n",
            "Graduation    Divorced    49\n",
            "Graduation    MARRIED    2\n",
            "Graduation    Married    161\n",
            "Graduation    SINGL    0\n",
            "Graduation    Single    101\n",
            "Graduation    Together    91\n",
            "Graduation    Widow    19\n",
            "Master    Alone    1\n",
            "Master    Divorced    12\n",
            "Master    MARRIED    0\n",
            "Master    Married    56\n",
            "Master    SINGL    0\n",
            "Master    Single    30\n",
            "Master    Together    39\n",
            "Master    Widow    4\n",
            "PhD    Alone    1\n",
            "PhD    Divorced    23\n",
            "PhD    MARRIED    0\n",
            "PhD    Married    69\n",
            "PhD    SINGL    1\n",
            "PhD    Single    39\n",
            "PhD    Together    50\n",
            "PhD    Widow    4\n"
          ]
        },
        {
          "name": "stderr",
          "output_type": "stream",
          "text": [
            "C:\\Users\\denis\\AppData\\Local\\Temp\\ipykernel_8432\\2610165621.py:1: FutureWarning: The default of observed=False is deprecated and will be changed to True in a future version of pandas. Pass observed=False to retain current behavior or observed=True to adopt the future default and silence this warning.\n",
            "  education_by_marital = df.groupby(['education', 'marital_status']).size().reset_index(name='count')\n"
          ]
        }
      ],
      "source": [
        "education_by_marital = df.groupby(['education', 'marital_status']).size().reset_index(name='count')\n",
        "\n",
        "print(\"Распределение клиентов по образованию и семейному статусу:\")\n",
        "for index, row in education_by_marital.iterrows():\n",
        "    print(f\"{row['education']}    {row['marital_status']}    {row['count']}\")"
      ]
    },
    {
      "cell_type": "markdown",
      "metadata": {
        "id": "jLmhNuq0mms3"
      },
      "source": [
        "**`Сделайте вывод - интерпретацию - что можно увидеть из результата данной группировки?`**\n",
        "\n",
        "1. **Доминирующие группы**:\n",
        "   - Наибольшее количество клиентов имеют образование \"Graduation\" (424 человека)\n",
        "   - Среди семейных статусов преобладают \"Married\" (295 человек) и \"Together\" (184 человека)\n",
        "\n",
        "2. **Образовательные паттерны**:\n",
        "   - Клиенты с высшим образованием (Graduation, Master, PhD) составляют подавляющее большинство (753 из 768)\n",
        "   - Basic образование встречается редко (всего 15 клиентов)\n",
        "\n",
        "3. **Семейный статус и образование**:\n",
        "   - Во всех категориях семейного статуса преобладает образование Graduation\n",
        "   - Клиенты с PhD равномерно распределены между разными семейными статусами\n",
        "\n",
        "Наибольшее количество одиноких среди PhD"
      ]
    },
    {
      "cell_type": "markdown",
      "metadata": {
        "id": "quMr70SmnMXS"
      },
      "source": [
        "---\n",
        "\n",
        "**Обратите внимание, что на защите вы должны ориентироваться в синтаксисе. При необходимости нужно быть готовым изменить код по просьбе преподавателя. Например, вместо среднего значения подсчитать медиану и т.д.**\n",
        "\n",
        "\n",
        " ---"
      ]
    },
    {
      "cell_type": "markdown",
      "metadata": {
        "id": "j0isGCzEne7a"
      },
      "source": [
        "#### Задание 2"
      ]
    },
    {
      "cell_type": "markdown",
      "metadata": {
        "id": "kE2vLBWbne7a"
      },
      "source": [
        "*`Формулировка задания`*\n",
        " Группировка - семейный статус (marital_status) по количеству детей.\n",
        "Создать датафрейм. Переименовать столбец с количеством в “сount”.\n",
        "Отсортировать по убыванию столбца “count”. "
      ]
    },
    {
      "cell_type": "code",
      "execution_count": 216,
      "metadata": {
        "id": "ttn78Zaene7a"
      },
      "outputs": [
        {
          "name": "stdout",
          "output_type": "stream",
          "text": [
            "  marital_status  count\n",
            "3        Married    140\n",
            "5         Single     79\n",
            "6       Together     71\n",
            "1       Divorced     35\n",
            "7          Widow      5\n",
            "0          Alone      3\n",
            "2        MARRIED      1\n",
            "4          SINGL      0\n"
          ]
        },
        {
          "name": "stderr",
          "output_type": "stream",
          "text": [
            "C:\\Users\\denis\\AppData\\Local\\Temp\\ipykernel_8432\\654319397.py:2: FutureWarning: The default of observed=False is deprecated and will be changed to True in a future version of pandas. Pass observed=False to retain current behavior or observed=True to adopt the future default and silence this warning.\n",
            "  marital_children = df.groupby('marital_status')['kids_home'].sum().reset_index()\n"
          ]
        }
      ],
      "source": [
        "# Группировка по семейному статусу и подсчет количества детей\n",
        "marital_children = df.groupby('marital_status')['kids_home'].sum().reset_index()\n",
        "\n",
        "# Переименование столбца\n",
        "marital_children.rename(columns={'kids_home': 'count'}, inplace=True)\n",
        "\n",
        "# Сортировка по убыванию количества детей\n",
        "marital_children.sort_values('count', ascending=False, inplace=True)\n",
        "\n",
        "# Вывод результата\n",
        "print(marital_children)"
      ]
    },
    {
      "cell_type": "markdown",
      "metadata": {
        "id": "HCyyeAu6ne7a"
      },
      "source": [
        "**`Сделайте вывод - интерпретацию - что можно увидеть из результата данной группировки?`**\n",
        "\n",
        "1. **Явные лидеры по количеству детей**:\n",
        "   - Семьи со статусом \"Married\" имеют значительно больше детей (140) чем другие группы\n",
        "   - \"Single\" (79) и \"Together\" (71) клиенты также имеют существенное количество детей\n",
        "\n",
        "2. **Фан факт**:\n",
        "   - Клиенты с статусом \"Single\" занимают второе место по количеству детей, что может указывать на:\n",
        "     - Неполные семьи с детьми\n",
        "     - Возможные ошибки в данных или классификации статусов"
      ]
    },
    {
      "cell_type": "markdown",
      "metadata": {
        "id": "NKLZ0m7Nne7b"
      },
      "source": [
        "---\n",
        "\n",
        "**Обратите внимание, что на защите вы должны ориентироваться в синтаксисе. При необходимости нужно быть готовым изменить код по просьбе преподавателя. Например, вместо среднего значения подсчитать медиану и т.д.**\n",
        "\n",
        "\n",
        " ---"
      ]
    },
    {
      "cell_type": "markdown",
      "metadata": {
        "id": "_3fHGp64nhUJ"
      },
      "source": [
        "#### Задание 3"
      ]
    },
    {
      "cell_type": "markdown",
      "metadata": {
        "id": "_Bc4ehyKnhUJ"
      },
      "source": [
        "*`Формулировка задания`*\n",
        "\n",
        "Сводная таблица (pivot_table) - средний доход семьи по семейному\n",
        "положению. Отсортировать по убыванию. Округлить до двух знаков."
      ]
    },
    {
      "cell_type": "code",
      "execution_count": 217,
      "metadata": {
        "id": "siDovPvQnhUJ"
      },
      "outputs": [
        {
          "name": "stdout",
          "output_type": "stream",
          "text": [
            "                average_income\n",
            "marital_status                \n",
            "SINGL                 82800.00\n",
            "Widow                 55828.22\n",
            "Together              54624.62\n",
            "Divorced              54568.16\n",
            "Married               53393.66\n",
            "Single                51062.75\n",
            "Alone                 43789.00\n",
            "MARRIED               27409.75\n"
          ]
        },
        {
          "name": "stderr",
          "output_type": "stream",
          "text": [
            "C:\\Users\\denis\\AppData\\Local\\Temp\\ipykernel_8432\\1320533203.py:2: FutureWarning: The default value of observed=False is deprecated and will change to observed=True in a future version of pandas. Specify observed=False to silence this warning and retain the current behavior\n",
            "  income_pivot = pd.pivot_table(\n"
          ]
        }
      ],
      "source": [
        "# выполните сводную таблицу согласно варианту\n",
        "income_pivot = pd.pivot_table(\n",
        "    df, \n",
        "    values='income', \n",
        "    index='marital_status', \n",
        "    aggfunc='mean'\n",
        ").round(2)\n",
        "\n",
        "income_pivot.rename(columns={'income': 'average_income'}, inplace=True)\n",
        "\n",
        "income_pivot.sort_values('average_income', ascending=False, inplace=True)\n",
        "\n",
        "print(income_pivot)"
      ]
    },
    {
      "cell_type": "markdown",
      "metadata": {
        "id": "1-vw8iyUnhUK"
      },
      "source": [
        "**`Сделайте вывод - интерпретацию - что можно увидеть из результата данной сводной таблицы?`**\n",
        "\n",
        "Значительный разброс в среднем доходе между различными категориями семейного положения. Наибольший средний доход показала категория \"SINGL\" (82 800), что более чем в три раза превышает показатель группы \"MARRIED\" (27 410) и значительно выше других категорий. Это может указывать либо на ошибку в данных (малое количество наблюдений в этой категории), либо на особенность выборки.\n",
        "\n",
        "Группы \"Together\", \"Divorced\" и \"Married\" демонстрируют относительно близкие значения среднего дохода в диапазоне 53-55 тысяч, что соответствует ожиданиям для стабильных семейных статусов. Категория \"Widow\" (вероятно, опечатка в \"Widow\") показывает средний доход 55 828, что может быть связано с наличием пенсий или наследства."
      ]
    },
    {
      "cell_type": "markdown",
      "metadata": {
        "id": "wKFm0zDenhUK"
      },
      "source": [
        "---\n",
        "\n",
        "**Обратите внимание, что на защите вы должны ориентироваться в синтаксисе. При необходимости нужно быть готовым изменить код по просьбе преподавателя. Например, вместо среднего значения подсчитать медиану и т.д.**\n",
        "\n",
        "\n",
        " ---"
      ]
    },
    {
      "cell_type": "markdown",
      "metadata": {
        "id": "FOlw74xCniNo"
      },
      "source": [
        "#### Задание 4"
      ]
    },
    {
      "cell_type": "markdown",
      "metadata": {
        "id": "4tvYwT25niNq"
      },
      "source": [
        "*`Формулировка задания`*\n",
        "\n",
        "Сводная таблица (pivot_table) - среднее количество покупок по уровню\n",
        "образованию - строки и году рождения - столбцы. Отсортировать по возрастанию\n",
        "education. Округлить до двух знаков.\n"
      ]
    },
    {
      "cell_type": "code",
      "execution_count": 218,
      "metadata": {},
      "outputs": [
        {
          "name": "stdout",
          "output_type": "stream",
          "text": [
            "birth_year  1899  1941  1943  1944  1945  1946  1947  1948  1949  1950  ...  \\\n",
            "education                                                               ...   \n",
            "Basic        0.0   0.0   0.0   0.0   0.0   0.0   0.0  0.00   0.0  0.00  ...   \n",
            "Graduation   0.0   0.0   0.0   1.0   0.0   1.5   1.0  1.00   1.0  2.00  ...   \n",
            "Master       0.0   0.0   1.0   1.0   1.0   1.0   1.0  1.00   2.2  5.00  ...   \n",
            "PhD          1.0   0.0   1.5   1.0   1.5   2.0   1.0  2.43   2.5  1.67  ...   \n",
            "\n",
            "birth_year  1986  1987  1988  1989  1990  1991  1992  1993  1994  1995  \n",
            "education                                                               \n",
            "Basic        2.0  2.00  0.00  1.00   1.0   0.0   0.0   0.0   0.0   0.0  \n",
            "Graduation   1.0  1.67  1.92  1.88   1.0   1.0   1.0   1.0   1.0   1.0  \n",
            "Master       2.5  1.00  1.00  2.00   0.0   0.0   1.0   0.0   0.0   0.0  \n",
            "PhD          1.5  0.00  1.00  1.00   0.0   1.0   0.0   0.0   0.0   0.0  \n",
            "\n",
            "[4 rows x 55 columns]\n"
          ]
        },
        {
          "name": "stderr",
          "output_type": "stream",
          "text": [
            "C:\\Users\\denis\\AppData\\Local\\Temp\\ipykernel_8432\\2910068614.py:5: FutureWarning: The default value of observed=False is deprecated and will change to observed=True in a future version of pandas. Specify observed=False to silence this warning and retain the current behavior\n",
            "  pivot = df.pivot_table(\n"
          ]
        }
      ],
      "source": [
        "# Устанавливаем порядок категорий для корректной сортировки\n",
        "education_order = ['Basic', 'Graduation', 'Master', 'PhD']\n",
        "df['education'] = pd.Categorical(df['education'], categories=education_order, ordered=True)\n",
        "\n",
        "pivot = df.pivot_table(\n",
        "    index='education',\n",
        "    columns='birth_year',\n",
        "    values='num_deals_purchases',\n",
        "    aggfunc='mean',\n",
        "    fill_value=0\n",
        ").round(2)\n",
        "\n",
        "pivot = pivot.sort_index()\n",
        "\n",
        "print(pivot)"
      ]
    },
    {
      "cell_type": "markdown",
      "metadata": {
        "id": "yqJqvk5qniNr"
      },
      "source": [
        "**`Сделайте вывод - интерпретацию - что можно увидеть из результата выполнения данного кода?`**\n",
        "\n",
        "Молодые клиенты с высшим образованием (магистры, доктора наук) совершают больше покупок:\n",
        "\n",
        "Например, в 1986–1995 гг. клиенты со степенью магистра совершали в среднем 2,5–2,43 покупки, а со степенью доктора философии — 1,5–1,67 покупки.\n",
        "\n",
        "\n",
        "Это может указывать на связь между высоким уровнем образования и активностью в сфере покупок (возможно, из-за доступа к цифровым платформам или более высокого дохода).\n",
        "\n",
        "\n",
        "Старшие возрастные группы (родившиеся до 1950-х годов) демонстрируют низкие или нулевые показатели покупок:\n",
        "\n",
        "\n",
        "Например, в 1899–1950 годах среднее количество покупок было близко к 0.0 для всех уровней образования.\n",
        "\n",
        "\n",
        "Это может быть обусловлено недостатком данных (малым количеством клиентов в этих группах) или реальным снижением активности у пожилых людей.\n",
        "\n",
        "\n",
        "Клиенты с базовым образованием (Basic) проявляют минимальную активность во всех возрастных категориях (чаще всего 0.0).\n"
      ]
    },
    {
      "cell_type": "markdown",
      "metadata": {
        "id": "tIkuqJKUniNs"
      },
      "source": [
        "---\n",
        "\n",
        "**Обратите внимание, что на защите вы должны ориентироваться в синтаксисе. При необходимости нужно быть готовым изменить код по просьбе преподавателя. Например, вместо среднего значения подсчитать медиану и т.д.**\n",
        "\n",
        "\n",
        " ---"
      ]
    },
    {
      "cell_type": "markdown",
      "metadata": {
        "id": "TpnXb6gip3S8"
      },
      "source": [
        "### Вывод"
      ]
    },
    {
      "cell_type": "markdown",
      "metadata": {
        "id": "nqLa096jM1Z8"
      },
      "source": [
        "\n",
        "***`Сделать расширенный вывод. `***\n",
        "\n",
        "Вывод должен описывать результаты исследования: какой набор данных вы анализировали (предметная область), какие методы предобработки применили, какие выводы из группировок и сводных таблиц можно сделать (они могут повторять выводы выше) и т.п. Объём вывода, как правило не более 0.5-0.75 страницы А4, всё таки вывод должен быть конкретным (без теории и “воды”).\n",
        "\n",
        "### Предметная область и набор данных\n",
        "Проанализирован набор данных клиентов (clients.csv), содержащий демографическую и поведенческую информацию о покупателях. Данные включали сведения о возрасте, образовании, семейном положении, доходе и количестве детей.\n",
        "\n",
        "### Предобработка данных\n",
        "- Выполнена проверка и корректировка названий столбцов\n",
        "- Обнаружены и обработаны пропуски: числовые данные заполнены медианными значениями, категориальные - модальными\n",
        "- Выявлены и устранены явные и неявные дубликаты записей\n",
        "- Обнаружены проблемы консистентности в категориальных данных (различные написания одних и тех же категорий)\n",
        "\n",
        "### Ключевые выводы из анализа\n",
        "1. **Демографический портрет клиентов**: Большинство клиентов имеют высшее образование (Graduation, Master, PhD) и состоят в браке (Married) или отношениях (Together).\n",
        "\n",
        "2. **Доход и семейное положение**: Обнаружен значительный разброс в среднем доходе между разными категориями семейного положения. Неожиданно высокий средний доход у категории \"SINGL\" (82,800) требует дополнительной проверки на корректность данных.\n",
        "\n",
        "3. **Дети и семейный статус**: Наибольшее количество детей зафиксировано у клиентов со статусом \"Married\" (140), что соответствует ожиданиям. Неожиданным является второе место по количеству детей у клиентов со статусом \"Single\" (79).\n"
      ]
    },
    {
      "cell_type": "markdown",
      "metadata": {
        "id": "Sn3y7og_vjGG"
      },
      "source": [
        "### Дополнительное задание"
      ]
    },
    {
      "cell_type": "markdown",
      "metadata": {
        "id": "rR6WgHXYvlqD"
      },
      "source": [
        "**`Подробная формулировка задания`**"
      ]
    },
    {
      "cell_type": "code",
      "execution_count": 219,
      "metadata": {
        "id": "wG5TGQpevlBq"
      },
      "outputs": [],
      "source": [
        "# код выполнения задания"
      ]
    },
    {
      "cell_type": "markdown",
      "metadata": {
        "id": "y-qpTuhTvon3"
      },
      "source": [
        "***`Подробный вывод по заданию, описание полученных результатов`***"
      ]
    }
  ],
  "metadata": {
    "colab": {
      "provenance": []
    },
    "kernelspec": {
      "display_name": "Python (analis_lab_env)",
      "language": "python",
      "name": "analis_course_env"
    },
    "language_info": {
      "codemirror_mode": {
        "name": "ipython",
        "version": 3
      },
      "file_extension": ".py",
      "mimetype": "text/x-python",
      "name": "python",
      "nbconvert_exporter": "python",
      "pygments_lexer": "ipython3",
      "version": "3.13.0"
    }
  },
  "nbformat": 4,
  "nbformat_minor": 0
}
