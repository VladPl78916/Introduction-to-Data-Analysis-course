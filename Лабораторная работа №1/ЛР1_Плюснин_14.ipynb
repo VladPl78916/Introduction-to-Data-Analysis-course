{
  "cells": [
    {
      "cell_type": "markdown",
      "metadata": {
        "id": "bri_pAriNFqN"
      },
      "source": [
        "**Цель работы:**\n",
        "\n",
        "Осуществить предварительную обработку данных csv-файла, выявить и устранить проблемы в этих данных."
      ]
    },
    {
      "cell_type": "markdown",
      "metadata": {
        "id": "r_e-GeJmgZ8l"
      },
      "source": [
        "# Загрузка набора данных"
      ]
    },
    {
      "cell_type": "markdown",
      "metadata": {
        "id": "eeq9ZAbSguQS"
      },
      "source": [
        "### Описание предметной области"
      ]
    },
    {
      "cell_type": "markdown",
      "metadata": {
        "id": "XHbH8zNIg0Ib"
      },
      "source": [
        "Вариант №14\n",
        "\n",
        "Набор данных: clients.csv\n",
        "\n",
        "Атрибуты:\n",
        "..."
      ]
    },
    {
      "cell_type": "markdown",
      "metadata": {
        "id": "Lwin9ia7hT1i"
      },
      "source": [
        "### 1.Чтение файла (набора данных)"
      ]
    },
    {
      "cell_type": "markdown",
      "metadata": {},
      "source": [
        "Импортируем необходимые библиотеки:\n",
        "pandas для работы с данными.\n",
        "Читаем CSV-файл в DataFrame df."
      ]
    },
    {
      "cell_type": "code",
      "execution_count": 369,
      "metadata": {
        "id": "a5dYQO5YhOYa"
      },
      "outputs": [],
      "source": [
        "# импорт библиотек, чтение файла с помощью pandas\n",
        "import pandas as pd\n",
        "\n",
        "df = pd.read_csv('clients.csv', sep=';')"
      ]
    },
    {
      "cell_type": "markdown",
      "metadata": {
        "id": "p82p53SvhjLN"
      },
      "source": [
        "### 2. Обзор данных"
      ]
    },
    {
      "cell_type": "markdown",
      "metadata": {
        "id": "eAYzXaLrh-qh"
      },
      "source": [
        "2.1 Вывод первых 20 строк с помощью метода head."
      ]
    },
    {
      "cell_type": "code",
      "execution_count": 370,
      "metadata": {
        "id": "7yMo3VZ_hotx"
      },
      "outputs": [
        {
          "data": {
            "text/html": [
              "<div>\n",
              "<style scoped>\n",
              "    .dataframe tbody tr th:only-of-type {\n",
              "        vertical-align: middle;\n",
              "    }\n",
              "\n",
              "    .dataframe tbody tr th {\n",
              "        vertical-align: top;\n",
              "    }\n",
              "\n",
              "    .dataframe thead th {\n",
              "        text-align: right;\n",
              "    }\n",
              "</style>\n",
              "<table border=\"1\" class=\"dataframe\">\n",
              "  <thead>\n",
              "    <tr style=\"text-align: right;\">\n",
              "      <th></th>\n",
              "      <th>ID</th>\n",
              "      <th>Year_Birth</th>\n",
              "      <th>Education</th>\n",
              "      <th>Marital_Status</th>\n",
              "      <th>Income</th>\n",
              "      <th>Kidhome</th>\n",
              "      <th>Dt_Customer</th>\n",
              "      <th>NumDealsPurchases</th>\n",
              "    </tr>\n",
              "  </thead>\n",
              "  <tbody>\n",
              "    <tr>\n",
              "      <th>0</th>\n",
              "      <td>5524</td>\n",
              "      <td>1957</td>\n",
              "      <td>Graduation</td>\n",
              "      <td>Single</td>\n",
              "      <td>58138.0</td>\n",
              "      <td>0.0</td>\n",
              "      <td>04.09.2012</td>\n",
              "      <td>3.0</td>\n",
              "    </tr>\n",
              "    <tr>\n",
              "      <th>1</th>\n",
              "      <td>2174</td>\n",
              "      <td>1954</td>\n",
              "      <td>Graduation</td>\n",
              "      <td>Single</td>\n",
              "      <td>46344.0</td>\n",
              "      <td>1.0</td>\n",
              "      <td>08.03.2014</td>\n",
              "      <td>2.0</td>\n",
              "    </tr>\n",
              "    <tr>\n",
              "      <th>2</th>\n",
              "      <td>4141</td>\n",
              "      <td>1965</td>\n",
              "      <td>Graduation</td>\n",
              "      <td>Together</td>\n",
              "      <td>71613.0</td>\n",
              "      <td>0.0</td>\n",
              "      <td>21.08.2013</td>\n",
              "      <td>1.0</td>\n",
              "    </tr>\n",
              "    <tr>\n",
              "      <th>3</th>\n",
              "      <td>6182</td>\n",
              "      <td>1984</td>\n",
              "      <td>Graduation</td>\n",
              "      <td>Together</td>\n",
              "      <td>26646.0</td>\n",
              "      <td>1.0</td>\n",
              "      <td>10.02.2014</td>\n",
              "      <td>2.0</td>\n",
              "    </tr>\n",
              "    <tr>\n",
              "      <th>4</th>\n",
              "      <td>5324</td>\n",
              "      <td>1981</td>\n",
              "      <td>PhD</td>\n",
              "      <td>Married</td>\n",
              "      <td>58293.0</td>\n",
              "      <td>1.0</td>\n",
              "      <td>19.01.2014</td>\n",
              "      <td>5.0</td>\n",
              "    </tr>\n",
              "    <tr>\n",
              "      <th>5</th>\n",
              "      <td>7446</td>\n",
              "      <td>1967</td>\n",
              "      <td>Master</td>\n",
              "      <td>Together</td>\n",
              "      <td>62513.0</td>\n",
              "      <td>0.0</td>\n",
              "      <td>09.09.2013</td>\n",
              "      <td>2.0</td>\n",
              "    </tr>\n",
              "    <tr>\n",
              "      <th>6</th>\n",
              "      <td>965</td>\n",
              "      <td>1971</td>\n",
              "      <td>Graduation</td>\n",
              "      <td>Divorced</td>\n",
              "      <td>55635.0</td>\n",
              "      <td>0.0</td>\n",
              "      <td>13.11.2012</td>\n",
              "      <td>4.0</td>\n",
              "    </tr>\n",
              "    <tr>\n",
              "      <th>7</th>\n",
              "      <td>6177</td>\n",
              "      <td>1985</td>\n",
              "      <td>PhD</td>\n",
              "      <td>Married</td>\n",
              "      <td>33454.0</td>\n",
              "      <td>1.0</td>\n",
              "      <td>08.05.2013</td>\n",
              "      <td>2.0</td>\n",
              "    </tr>\n",
              "    <tr>\n",
              "      <th>8</th>\n",
              "      <td>4855</td>\n",
              "      <td>1974</td>\n",
              "      <td>PhD</td>\n",
              "      <td>Together</td>\n",
              "      <td>30351.0</td>\n",
              "      <td>1.0</td>\n",
              "      <td>06.06.2013</td>\n",
              "      <td>1.0</td>\n",
              "    </tr>\n",
              "    <tr>\n",
              "      <th>9</th>\n",
              "      <td>5899</td>\n",
              "      <td>1950</td>\n",
              "      <td>PhD</td>\n",
              "      <td>Together</td>\n",
              "      <td>5648.0</td>\n",
              "      <td>1.0</td>\n",
              "      <td>13.03.2014</td>\n",
              "      <td>1.0</td>\n",
              "    </tr>\n",
              "    <tr>\n",
              "      <th>10</th>\n",
              "      <td>1994</td>\n",
              "      <td>1983</td>\n",
              "      <td>Graduation</td>\n",
              "      <td>MARRIED</td>\n",
              "      <td>NaN</td>\n",
              "      <td>NaN</td>\n",
              "      <td>NaN</td>\n",
              "      <td>NaN</td>\n",
              "    </tr>\n",
              "    <tr>\n",
              "      <th>11</th>\n",
              "      <td>387</td>\n",
              "      <td>1976</td>\n",
              "      <td>Basic</td>\n",
              "      <td>Married</td>\n",
              "      <td>7500.0</td>\n",
              "      <td>0.0</td>\n",
              "      <td>13.11.2012</td>\n",
              "      <td>1.0</td>\n",
              "    </tr>\n",
              "    <tr>\n",
              "      <th>12</th>\n",
              "      <td>2125</td>\n",
              "      <td>1959</td>\n",
              "      <td>Graduation</td>\n",
              "      <td>Divorced</td>\n",
              "      <td>63033.0</td>\n",
              "      <td>0.0</td>\n",
              "      <td>15.11.2013</td>\n",
              "      <td>1.0</td>\n",
              "    </tr>\n",
              "    <tr>\n",
              "      <th>13</th>\n",
              "      <td>8180</td>\n",
              "      <td>1952</td>\n",
              "      <td>Master</td>\n",
              "      <td>Divorced</td>\n",
              "      <td>59354.0</td>\n",
              "      <td>1.0</td>\n",
              "      <td>15.11.2013</td>\n",
              "      <td>3.0</td>\n",
              "    </tr>\n",
              "    <tr>\n",
              "      <th>14</th>\n",
              "      <td>2569</td>\n",
              "      <td>1987</td>\n",
              "      <td>Graduation</td>\n",
              "      <td>Married</td>\n",
              "      <td>17323.0</td>\n",
              "      <td>0.0</td>\n",
              "      <td>10.10.2012</td>\n",
              "      <td>1.0</td>\n",
              "    </tr>\n",
              "    <tr>\n",
              "      <th>15</th>\n",
              "      <td>2114</td>\n",
              "      <td>1946</td>\n",
              "      <td>PhD</td>\n",
              "      <td>SINGL</td>\n",
              "      <td>82800.0</td>\n",
              "      <td>0.0</td>\n",
              "      <td>24.11.2012</td>\n",
              "      <td>1.0</td>\n",
              "    </tr>\n",
              "    <tr>\n",
              "      <th>16</th>\n",
              "      <td>9736</td>\n",
              "      <td>1980</td>\n",
              "      <td>Graduation</td>\n",
              "      <td>Married</td>\n",
              "      <td>41850.0</td>\n",
              "      <td>1.0</td>\n",
              "      <td>24.12.2012</td>\n",
              "      <td>3.0</td>\n",
              "    </tr>\n",
              "    <tr>\n",
              "      <th>17</th>\n",
              "      <td>4939</td>\n",
              "      <td>1946</td>\n",
              "      <td>Graduation</td>\n",
              "      <td>Together</td>\n",
              "      <td>37760.0</td>\n",
              "      <td>0.0</td>\n",
              "      <td>31.08.2012</td>\n",
              "      <td>2.0</td>\n",
              "    </tr>\n",
              "    <tr>\n",
              "      <th>18</th>\n",
              "      <td>6565</td>\n",
              "      <td>1949</td>\n",
              "      <td>Master</td>\n",
              "      <td>Married</td>\n",
              "      <td>76995.0</td>\n",
              "      <td>0.0</td>\n",
              "      <td>28.03.2013</td>\n",
              "      <td>2.0</td>\n",
              "    </tr>\n",
              "    <tr>\n",
              "      <th>19</th>\n",
              "      <td>9360</td>\n",
              "      <td>1982</td>\n",
              "      <td>Graduation</td>\n",
              "      <td>Married</td>\n",
              "      <td>37040.0</td>\n",
              "      <td>0.0</td>\n",
              "      <td>08.08.2012</td>\n",
              "      <td>1.0</td>\n",
              "    </tr>\n",
              "  </tbody>\n",
              "</table>\n",
              "</div>"
            ],
            "text/plain": [
              "      ID  Year_Birth   Education Marital_Status   Income  Kidhome Dt_Customer  \\\n",
              "0   5524        1957  Graduation         Single  58138.0      0.0  04.09.2012   \n",
              "1   2174        1954  Graduation         Single  46344.0      1.0  08.03.2014   \n",
              "2   4141        1965  Graduation       Together  71613.0      0.0  21.08.2013   \n",
              "3   6182        1984  Graduation       Together  26646.0      1.0  10.02.2014   \n",
              "4   5324        1981         PhD        Married  58293.0      1.0  19.01.2014   \n",
              "5   7446        1967      Master       Together  62513.0      0.0  09.09.2013   \n",
              "6    965        1971  Graduation       Divorced  55635.0      0.0  13.11.2012   \n",
              "7   6177        1985         PhD        Married  33454.0      1.0  08.05.2013   \n",
              "8   4855        1974         PhD       Together  30351.0      1.0  06.06.2013   \n",
              "9   5899        1950         PhD       Together   5648.0      1.0  13.03.2014   \n",
              "10  1994        1983  Graduation        MARRIED      NaN      NaN         NaN   \n",
              "11   387        1976       Basic        Married   7500.0      0.0  13.11.2012   \n",
              "12  2125        1959  Graduation       Divorced  63033.0      0.0  15.11.2013   \n",
              "13  8180        1952      Master       Divorced  59354.0      1.0  15.11.2013   \n",
              "14  2569        1987  Graduation        Married  17323.0      0.0  10.10.2012   \n",
              "15  2114        1946         PhD          SINGL  82800.0      0.0  24.11.2012   \n",
              "16  9736        1980  Graduation        Married  41850.0      1.0  24.12.2012   \n",
              "17  4939        1946  Graduation       Together  37760.0      0.0  31.08.2012   \n",
              "18  6565        1949      Master        Married  76995.0      0.0  28.03.2013   \n",
              "19  9360        1982  Graduation        Married  37040.0      0.0  08.08.2012   \n",
              "\n",
              "    NumDealsPurchases  \n",
              "0                 3.0  \n",
              "1                 2.0  \n",
              "2                 1.0  \n",
              "3                 2.0  \n",
              "4                 5.0  \n",
              "5                 2.0  \n",
              "6                 4.0  \n",
              "7                 2.0  \n",
              "8                 1.0  \n",
              "9                 1.0  \n",
              "10                NaN  \n",
              "11                1.0  \n",
              "12                1.0  \n",
              "13                3.0  \n",
              "14                1.0  \n",
              "15                1.0  \n",
              "16                3.0  \n",
              "17                2.0  \n",
              "18                2.0  \n",
              "19                1.0  "
            ]
          },
          "execution_count": 370,
          "metadata": {},
          "output_type": "execute_result"
        }
      ],
      "source": [
        "# применить метод head\n",
        "df.head(20)"
      ]
    },
    {
      "cell_type": "markdown",
      "metadata": {
        "id": "Ze-lXxLMhpWv"
      },
      "source": [
        "2.2 Оценка данных с помощью метода info."
      ]
    },
    {
      "cell_type": "code",
      "execution_count": 371,
      "metadata": {
        "id": "bjhngmaLiGM-"
      },
      "outputs": [
        {
          "name": "stdout",
          "output_type": "stream",
          "text": [
            "<class 'pandas.core.frame.DataFrame'>\n",
            "RangeIndex: 796 entries, 0 to 795\n",
            "Data columns (total 8 columns):\n",
            " #   Column             Non-Null Count  Dtype  \n",
            "---  ------             --------------  -----  \n",
            " 0   ID                 796 non-null    int64  \n",
            " 1   Year_Birth         796 non-null    int64  \n",
            " 2   Education          796 non-null    object \n",
            " 3   Marital_Status     796 non-null    object \n",
            " 4   Income             784 non-null    float64\n",
            " 5   Kidhome            795 non-null    float64\n",
            " 6   Dt_Customer        795 non-null    object \n",
            " 7   NumDealsPurchases  795 non-null    float64\n",
            "dtypes: float64(3), int64(2), object(3)\n",
            "memory usage: 49.9+ KB\n"
          ]
        }
      ],
      "source": [
        "# выполнит метод info\n",
        "df.info()"
      ]
    },
    {
      "cell_type": "markdown",
      "metadata": {
        "id": "06PDq9DAiMAY"
      },
      "source": [
        "2.3 Оценка данных с помощью метода describe."
      ]
    },
    {
      "cell_type": "code",
      "execution_count": 372,
      "metadata": {
        "id": "cTVFwzO1jQfN"
      },
      "outputs": [
        {
          "data": {
            "text/html": [
              "<div>\n",
              "<style scoped>\n",
              "    .dataframe tbody tr th:only-of-type {\n",
              "        vertical-align: middle;\n",
              "    }\n",
              "\n",
              "    .dataframe tbody tr th {\n",
              "        vertical-align: top;\n",
              "    }\n",
              "\n",
              "    .dataframe thead th {\n",
              "        text-align: right;\n",
              "    }\n",
              "</style>\n",
              "<table border=\"1\" class=\"dataframe\">\n",
              "  <thead>\n",
              "    <tr style=\"text-align: right;\">\n",
              "      <th></th>\n",
              "      <th>ID</th>\n",
              "      <th>Year_Birth</th>\n",
              "      <th>Income</th>\n",
              "      <th>Kidhome</th>\n",
              "      <th>NumDealsPurchases</th>\n",
              "    </tr>\n",
              "  </thead>\n",
              "  <tbody>\n",
              "    <tr>\n",
              "      <th>count</th>\n",
              "      <td>796.000000</td>\n",
              "      <td>796.000000</td>\n",
              "      <td>784.00000</td>\n",
              "      <td>795.000000</td>\n",
              "      <td>795.000000</td>\n",
              "    </tr>\n",
              "    <tr>\n",
              "      <th>mean</th>\n",
              "      <td>5630.133166</td>\n",
              "      <td>1968.356784</td>\n",
              "      <td>53130.07398</td>\n",
              "      <td>0.438994</td>\n",
              "      <td>2.314465</td>\n",
              "    </tr>\n",
              "    <tr>\n",
              "      <th>std</th>\n",
              "      <td>3273.039715</td>\n",
              "      <td>12.022132</td>\n",
              "      <td>21818.56876</td>\n",
              "      <td>0.547252</td>\n",
              "      <td>1.941650</td>\n",
              "    </tr>\n",
              "    <tr>\n",
              "      <th>min</th>\n",
              "      <td>0.000000</td>\n",
              "      <td>1899.000000</td>\n",
              "      <td>2447.00000</td>\n",
              "      <td>0.000000</td>\n",
              "      <td>0.000000</td>\n",
              "    </tr>\n",
              "    <tr>\n",
              "      <th>25%</th>\n",
              "      <td>2853.000000</td>\n",
              "      <td>1959.000000</td>\n",
              "      <td>36141.75000</td>\n",
              "      <td>0.000000</td>\n",
              "      <td>1.000000</td>\n",
              "    </tr>\n",
              "    <tr>\n",
              "      <th>50%</th>\n",
              "      <td>5563.000000</td>\n",
              "      <td>1969.500000</td>\n",
              "      <td>52372.50000</td>\n",
              "      <td>0.000000</td>\n",
              "      <td>2.000000</td>\n",
              "    </tr>\n",
              "    <tr>\n",
              "      <th>75%</th>\n",
              "      <td>8584.250000</td>\n",
              "      <td>1977.000000</td>\n",
              "      <td>69293.25000</td>\n",
              "      <td>1.000000</td>\n",
              "      <td>3.000000</td>\n",
              "    </tr>\n",
              "    <tr>\n",
              "      <th>max</th>\n",
              "      <td>11191.000000</td>\n",
              "      <td>1995.000000</td>\n",
              "      <td>162397.00000</td>\n",
              "      <td>2.000000</td>\n",
              "      <td>15.000000</td>\n",
              "    </tr>\n",
              "  </tbody>\n",
              "</table>\n",
              "</div>"
            ],
            "text/plain": [
              "                 ID   Year_Birth        Income     Kidhome  NumDealsPurchases\n",
              "count    796.000000   796.000000     784.00000  795.000000         795.000000\n",
              "mean    5630.133166  1968.356784   53130.07398    0.438994           2.314465\n",
              "std     3273.039715    12.022132   21818.56876    0.547252           1.941650\n",
              "min        0.000000  1899.000000    2447.00000    0.000000           0.000000\n",
              "25%     2853.000000  1959.000000   36141.75000    0.000000           1.000000\n",
              "50%     5563.000000  1969.500000   52372.50000    0.000000           2.000000\n",
              "75%     8584.250000  1977.000000   69293.25000    1.000000           3.000000\n",
              "max    11191.000000  1995.000000  162397.00000    2.000000          15.000000"
            ]
          },
          "execution_count": 372,
          "metadata": {},
          "output_type": "execute_result"
        }
      ],
      "source": [
        "# оцените числовые столбцы с помощью describe\n",
        "df.describe()"
      ]
    },
    {
      "cell_type": "markdown",
      "metadata": {
        "id": "oOZUrZGuiGqc"
      },
      "source": [
        "\n",
        "---\n",
        "\n",
        "**Сделать выводы. Вы должны понимать, что означает тот или иной столбец, чтобы\n",
        " ответить на вопросы на защите.**\n",
        "\n",
        "\n",
        " ---\n"
      ]
    },
    {
      "cell_type": "markdown",
      "metadata": {},
      "source": [
        "### Промежуточный вывод о данных\n",
        "\n",
        "Данные содержат 796 записей о клиентах магазина с 8 признаками, включая уникальный идентификатор, год рождения, уровень образования, семейное положение, доход, количество детей, дату регистрации и количество покупок.\n",
        "\n",
        "Типы данных:\n",
        "Числовые: ID, Year_Birth, Income, Kidhome, NumDealsPurchases.\n",
        "\n",
        "Категориальные: Education, Marital_Status, Dt_Customer.\n",
        "\n",
        "Пропуски:\n",
        "\n",
        "Income — 12 пропущенных значений, Kidhome и NumDealsPurchases — по 1 пропущенному значению."
      ]
    },
    {
      "cell_type": "markdown",
      "metadata": {
        "id": "JTbo0IGDiHxn"
      },
      "source": [
        " 2.4 Оценка названий столбцов"
      ]
    },
    {
      "cell_type": "code",
      "execution_count": 373,
      "metadata": {
        "id": "9NEyi2Odik3e"
      },
      "outputs": [
        {
          "data": {
            "text/plain": [
              "Index(['ID', 'Year_Birth', 'Education', 'Marital_Status', 'Income', 'Kidhome',\n",
              "       'Dt_Customer', 'NumDealsPurchases'],\n",
              "      dtype='object')"
            ]
          },
          "execution_count": 373,
          "metadata": {},
          "output_type": "execute_result"
        }
      ],
      "source": [
        "# Вывести на экран названия столбцов с помощью df.columns. Выявить проблемы с названиями, если они есть. При необходимости переименовать столбцы. Если проблемы не обнаружены также дать пояснения.\n",
        "df.columns"
      ]
    },
    {
      "cell_type": "code",
      "execution_count": 374,
      "metadata": {},
      "outputs": [
        {
          "name": "stdout",
          "output_type": "stream",
          "text": [
            "Проблем не обнаружено\n"
          ]
        }
      ],
      "source": [
        "# Проверка на наличие возможных проблем\n",
        "problems_found = []\n",
        "\n",
        "for col in df.columns:\n",
        "    if col != col.strip():\n",
        "        problems_found.append(f\"Столбец '{col}' имеет пробелы в начале или конце\")\n",
        "\n",
        "for col in df.columns:\n",
        "    if any(char in col for char in [' ', '.', '-', '/', '\\\\', '(', ')', '[', ']', '{', '}']):\n",
        "        problems_found.append(f\"Столбец '{col}' содержит специальные символы или пробелы\")\n",
        "\n",
        "if problems_found:\n",
        "    print(\"Обнаружены проблемы в названиях столбцов:\")\n",
        "    for problem in problems_found:\n",
        "        print(f\"- {problem}\")\n",
        "else:\n",
        "    print(\"Проблем не обнаружено\")"
      ]
    },
    {
      "cell_type": "code",
      "execution_count": 375,
      "metadata": {
        "id": "QSJBLl4qjjP8"
      },
      "outputs": [
        {
          "name": "stdout",
          "output_type": "stream",
          "text": [
            "Обновленные названия столбцов:\n",
            "['customer_id', 'birth_year', 'education', 'marital_status', 'income', 'kids_home', 'customer_since', 'num_deals_purchases']\n"
          ]
        }
      ],
      "source": [
        "df.rename(columns={\n",
        "    'ID': 'customer_id',\n",
        "    'Year_Birth': 'birth_year',\n",
        "    'Education': 'education',\n",
        "    'Marital_Status': 'marital_status',\n",
        "    'Income': 'income',\n",
        "    'Kidhome': 'kids_home',\n",
        "    'Dt_Customer': 'customer_since',\n",
        "    'NumDealsPurchases': 'num_deals_purchases'\n",
        "}, inplace=True)\n",
        "\n",
        "print(\"Обновленные названия столбцов:\")\n",
        "print(df.columns.tolist())"
      ]
    },
    {
      "cell_type": "markdown",
      "metadata": {},
      "source": [
        "### Анализ и коррекция названий столбцов\n",
        "\n",
        "Был проведен анализ названий столбцов на предмет наличия проблем:\n",
        "- Проверка на пробелы в начале/конце названий\n",
        "- Проверка на наличие специальных символов и пробелов\n",
        "\n",
        "После анализа выполнено переименование столбцов для улучшения читаемости и удобства работы:\n",
        "- `ID` → `customer_id`\n",
        "- `Year_Birth` → `birth_year`\n",
        "- `Education` → `education`\n",
        "- `Marital_Status` → `marital_status`\n",
        "- `Income` → `income`\n",
        "- `Kidhome` → `kids_home`\n",
        "- `Dt_Customer` → `customer_since`\n",
        "- `NumDealsPurchases` → `num_deals_purchases`\n",
        "\n",
        "В конце выводится обновленный список названий столбцов для подтверждения изменений."
      ]
    },
    {
      "cell_type": "markdown",
      "metadata": {
        "id": "V0tLQcyrjnA_"
      },
      "source": [
        "### 3. Проверка пропусков"
      ]
    },
    {
      "cell_type": "code",
      "execution_count": 376,
      "metadata": {
        "id": "xuTz-Avjj9AW"
      },
      "outputs": [
        {
          "name": "stdout",
          "output_type": "stream",
          "text": [
            "income                 12\n",
            "kids_home               1\n",
            "customer_since          1\n",
            "num_deals_purchases     1\n",
            "dtype: int64\n",
            "Заполнено 12 пропусков в числовом столбце 'income' медианой: 52372.5\n",
            "Заполнено 1 пропусков в числовом столбце 'kids_home' медианой: 0.0\n",
            "Заполнено 1 пропусков в числовом столбце 'num_deals_purchases' медианой: 2.0\n",
            "Заполнено 1 пропусков в столбце 'customer_since' модой: '01.03.2014'\n",
            "\n",
            "Все пропуски успешно обработаны!\n"
          ]
        }
      ],
      "source": [
        "# Проверить данные на наличие пропусков и устранить их\n",
        "import numpy as np\n",
        "\n",
        "# Проверка пропусков\n",
        "missing_data = df.isnull().sum()\n",
        "print(missing_data[missing_data > 0])\n",
        "\n",
        "if missing_data.any():\n",
        "    # Для числовых столбцов\n",
        "    numeric_cols = df.select_dtypes(include=[np.number]).columns\n",
        "    for col in numeric_cols:\n",
        "        if missing_data[col] > 0:\n",
        "            median_val = df[col].median()\n",
        "            df[col] = df[col].fillna(median_val)\n",
        "            print(f\"Заполнено {missing_data[col]} пропусков в числовом столбце '{col}' медианой: {median_val}\")\n",
        "    \n",
        "    # Для всех остальных столбцов\n",
        "    other_cols = df.columns.difference(numeric_cols)\n",
        "    for col in other_cols:\n",
        "        if missing_data[col] > 0:\n",
        "            # Для строковых/категориальных данных используем моду\n",
        "            if df[col].dtype == 'object':\n",
        "                mode_val = df[col].mode()[0] if not df[col].mode().empty else 'Unknown'\n",
        "                df[col] = df[col].fillna(mode_val)\n",
        "                print(f\"Заполнено {missing_data[col]} пропусков в столбце '{col}' модой: '{mode_val}'\")\n",
        "            \n",
        "    remaining_missing = df.isnull().sum().sum()\n",
        "    if remaining_missing == 0:\n",
        "        print(\"\\nВсе пропуски успешно обработаны!\")\n",
        "    else:\n",
        "        print(f\"\\nОсталось {remaining_missing} пропусков, требующих дополнительного анализа.\")\n",
        "        print(\"Столбцы с оставшимися пропусками:\")\n",
        "        print(df.isnull().sum()[df.isnull().sum() > 0])\n",
        "else:\n",
        "    print(\"Пропуски в данных отсутствуют.\")"
      ]
    },
    {
      "cell_type": "code",
      "execution_count": 377,
      "metadata": {},
      "outputs": [
        {
          "name": "stdout",
          "output_type": "stream",
          "text": [
            "Пропуски в данных:\n",
            "Series([], dtype: int64)\n"
          ]
        }
      ],
      "source": [
        "missing_data = df.isnull().sum()\n",
        "print(\"Пропуски в данных:\")\n",
        "print(missing_data[missing_data > 0])"
      ]
    },
    {
      "cell_type": "markdown",
      "metadata": {},
      "source": [
        "### Выбранные стратегии обработки пропусков:\n",
        "\n",
        "1. **Заполнение числовых данных медианой**:\n",
        "   - **Обоснование**: Медиана более устойчива к выбросам, чем среднее значение\n",
        "   - **Преимущество**: Сохраняет общее распределение данных без смещения в сторону экстремальных значений\n",
        "\n",
        "2. **Заполнение категориальных данных модой**:\n",
        "   - **Обоснование**: Мода представляет наиболее часто встречающееся значение\n",
        "   - **Преимущество**: Сохраняет исходное распределение категориальных переменных\n",
        "\n",
        "### Альтернативные методы\n",
        "\n",
        "1. **Удаление строк с пропусками**:\n",
        "   - **Недостаток**: Потеря данных и возможное смещение выборки\n",
        "   - **Когда уместно**: Только при малом количестве пропусков (<1%)\n",
        "\n",
        "2. **Прогнозирование пропущенных значений**:\n",
        "   - **Методы**: Машинное обучение (регрессия/классификация)\n",
        "   - **Преимущество**: Более точное восстановление значений\n",
        "   - **Недостаток**: Вычислительная сложность и риск переобучения\n",
        "\n",
        "3. **Интерполяция для временных рядов**:\n",
        "   - **Применимость**: Для данных с временной компонентой\n",
        "   - **Методы**: Линейная, полиномиальная интерполяция\n",
        "\n",
        "4. **Создание отдельной категории \"Unknown\"**:\n",
        "   - **Применимость**: Для категориальных данных\n",
        "   - **Преимущество**: Сохранение информации о наличии пропуска\n",
        "\n",
        "### Критерии выбора метода:\n",
        "- Процент пропущенных значений (<5% - заполнение, >30% - удаление столбца)\n",
        "- Тип данных (числовой/категориальный/временной)\n",
        "- Важность признака для дальнейшего анализа\n",
        "- Сохранение распределения и статистических свойств данных"
      ]
    },
    {
      "cell_type": "markdown",
      "metadata": {
        "id": "efZ7vgSVkPQH"
      },
      "source": [
        "\n",
        "---\n",
        "\n",
        "**Вы должны аргументировать на защите, почему были выполнены те или иные действия с пропусками, а также знать другие способы работы с пропусками, чтобы\n",
        " ответить на вопросы на защите.**\n",
        "\n",
        "\n",
        " ---"
      ]
    },
    {
      "cell_type": "markdown",
      "metadata": {
        "id": "kkyrXXHikEXk"
      },
      "source": [
        "### 4. Проверка дубликатов"
      ]
    },
    {
      "cell_type": "markdown",
      "metadata": {
        "id": "ImqHvr3okIQ6"
      },
      "source": [
        "#### Проверка явных дубликатов"
      ]
    },
    {
      "cell_type": "code",
      "execution_count": 378,
      "metadata": {
        "id": "qu1oh-e5lDZ1"
      },
      "outputs": [
        {
          "name": "stdout",
          "output_type": "stream",
          "text": [
            "Количество полных дубликатов в данных: 4\n"
          ]
        }
      ],
      "source": [
        "# Проверка на наличие явных дубликатов\n",
        "duplicates_count = df.duplicated().sum()\n",
        "print(f\"Количество полных дубликатов в данных: {duplicates_count}\")"
      ]
    },
    {
      "cell_type": "code",
      "execution_count": 379,
      "metadata": {
        "id": "ntArgvChkK26"
      },
      "outputs": [
        {
          "name": "stdout",
          "output_type": "stream",
          "text": [
            "Удалено 4 дубликатов.\n"
          ]
        }
      ],
      "source": [
        "# удалите дубликаты, если они есть\n",
        "if duplicates_count > 0:\n",
        "    df = df.drop_duplicates(keep='first')\n",
        "    print(f\"Удалено {duplicates_count} дубликатов.\")"
      ]
    },
    {
      "cell_type": "markdown",
      "metadata": {
        "id": "VeHTMcOmkLSw"
      },
      "source": [
        "#### Проверка неявных дубликатов"
      ]
    },
    {
      "cell_type": "code",
      "execution_count": 380,
      "metadata": {},
      "outputs": [
        {
          "name": "stdout",
          "output_type": "stream",
          "text": [
            "Уникальные значения в столбце 'education':\n",
            "['Graduation' 'PhD' 'Master' 'Basic']\n",
            "\n",
            "Частотность значений в столбце 'education':\n",
            "education\n",
            "Graduation    440\n",
            "PhD           190\n",
            "Master        147\n",
            "Basic          15\n",
            "Name: count, dtype: int64\n"
          ]
        }
      ],
      "source": [
        "print(\"Уникальные значения в столбце 'education':\")\n",
        "print(df['education'].unique())\n",
        "print(\"\\nЧастотность значений в столбце 'education':\")\n",
        "print(df['education'].value_counts())"
      ]
    },
    {
      "cell_type": "code",
      "execution_count": 381,
      "metadata": {},
      "outputs": [
        {
          "name": "stdout",
          "output_type": "stream",
          "text": [
            "\n",
            "Уникальные значения в столбце 'marital_status':\n",
            "['Single' 'Together' 'Married' 'Divorced' 'MARRIED' 'SINGL' 'Widow'\n",
            " 'Alone']\n",
            "\n",
            "Частотность значений в столбце 'marital_status':\n",
            "marital_status\n",
            "Married     305\n",
            "Together    193\n",
            "Single      174\n",
            "Divorced     85\n",
            "Widow        29\n",
            "Alone         3\n",
            "MARRIED       2\n",
            "SINGL         1\n",
            "Name: count, dtype: int64\n"
          ]
        }
      ],
      "source": [
        "print(\"\\nУникальные значения в столбце 'marital_status':\")\n",
        "print(df['marital_status'].unique())\n",
        "print(\"\\nЧастотность значений в столбце 'marital_status':\")\n",
        "print(df['marital_status'].value_counts())"
      ]
    },
    {
      "cell_type": "code",
      "execution_count": 382,
      "metadata": {},
      "outputs": [
        {
          "name": "stdout",
          "output_type": "stream",
          "text": [
            "\n",
            "Уникальные значения в столбце 'marital_status' после исправления:\n",
            "['Single' 'Together' 'Married' 'Divorced' 'Widow' 'Alone']\n",
            "\n",
            "Частотность значений в столбце 'marital_status' после исправления:\n",
            "marital_status\n",
            "Married     307\n",
            "Together    193\n",
            "Single      175\n",
            "Divorced     85\n",
            "Widow        29\n",
            "Alone         3\n",
            "Name: count, dtype: int64\n"
          ]
        }
      ],
      "source": [
        "marital_duplicates = {\n",
        "    'SINGL': 'Single',\n",
        "    'MARRIED': 'Married',\n",
        "}\n",
        "\n",
        "df['marital_status'] = df['marital_status'].replace(marital_duplicates)\n",
        "\n",
        "print(\"\\nУникальные значения в столбце 'marital_status' после исправления:\")\n",
        "print(df['marital_status'].unique())\n",
        "print(\"\\nЧастотность значений в столбце 'marital_status' после исправления:\")\n",
        "print(df['marital_status'].value_counts())\n"
      ]
    },
    {
      "cell_type": "code",
      "execution_count": 383,
      "metadata": {
        "id": "-uOPKHlVlGo8"
      },
      "outputs": [
        {
          "data": {
            "text/plain": [
              "'\\nsubset_columns = [\\'birth_year\\', \\'income\\', \\'customer_since\\', \\'marital_status\\']\\nimplicit_duplicates = df.duplicated(subset=subset_columns, keep=False)\\n\\n# Количество неявных дубликатов\\nduplicate_count = implicit_duplicates.sum()\\nprint(f\"Количество неявных дубликатов: {duplicate_count}\")\\n\\n# Примеры неявных дубликатов (если они есть)\\nif duplicate_count > 0:\\n    print(\"\\nПримеры неявных дубликатов:\")\\n    print(df[implicit_duplicates].sort_values(by=subset_columns).head())\\n'"
            ]
          },
          "execution_count": 383,
          "metadata": {},
          "output_type": "execute_result"
        }
      ],
      "source": [
        "# Проверка неявных дубликатов по ключевым признакам\n",
        "\"\"\"\n",
        "subset_columns = ['birth_year', 'income', 'customer_since', 'marital_status']\n",
        "implicit_duplicates = df.duplicated(subset=subset_columns, keep=False)\n",
        "\n",
        "# Количество неявных дубликатов\n",
        "duplicate_count = implicit_duplicates.sum()\n",
        "print(f\"Количество неявных дубликатов: {duplicate_count}\")\n",
        "\n",
        "# Примеры неявных дубликатов (если они есть)\n",
        "if duplicate_count > 0:\n",
        "    print(\"\\nПримеры неявных дубликатов:\")\n",
        "    print(df[implicit_duplicates].sort_values(by=subset_columns).head())\n",
        "\"\"\""
      ]
    },
    {
      "cell_type": "code",
      "execution_count": 384,
      "metadata": {
        "id": "89tMFEQ2k_M7"
      },
      "outputs": [
        {
          "data": {
            "text/plain": [
              "'\\nsubset_columns = [\\'birth_year\\', \\'income\\', \\'customer_since\\', \\'marital_status\\']\\ndf = df.drop_duplicates(subset=subset_columns, keep=\\'first\\', ignore_index=True)\\n\\nprint(\"Данные после удаления неявных дубликатов:\")\\nprint(df.info())\\n'"
            ]
          },
          "execution_count": 384,
          "metadata": {},
          "output_type": "execute_result"
        }
      ],
      "source": [
        "# удалите дубликаты, если они \n",
        "\"\"\"\n",
        "subset_columns = ['birth_year', 'income', 'customer_since', 'marital_status']\n",
        "df = df.drop_duplicates(subset=subset_columns, keep='first', ignore_index=True)\n",
        "\n",
        "print(\"Данные после удаления неявных дубликатов:\")\n",
        "print(df.info())\n",
        "\"\"\""
      ]
    },
    {
      "cell_type": "markdown",
      "metadata": {},
      "source": [
        "1. **Выбор ключевых признаков**:\n",
        "   - Код использует подмножество столбцов: `['birth_year', 'income', 'customer_since', 'marital_status']`\n",
        "   - Эти поля выбраны как комбинация, которая с высокой вероятностью должна быть уникальной для каждого клиента\n",
        "\n",
        "2. **Поиск дубликатов**:\n",
        "   - Метод `df.duplicated(subset=subset_columns, keep=False)` находит все строки, где комбинация указанных столбцов совпадает\n",
        "   - Параметр `keep=False` помечает все дубликаты (а не только вторые и последующие вхождения)\n",
        "\n",
        "3. **Анализ результатов**:\n",
        "   - Подсчитывается количество неявных дубликатов\n",
        "   - При наличии дубликатов выводятся примеры для визуальной проверки\n",
        "\n",
        "- Записи не являются полными копиями (различаются в других столбцах)\n",
        "- Но совпадают по ключевым идентифицирующим признакам"
      ]
    },
    {
      "cell_type": "markdown",
      "metadata": {
        "id": "GMcnDpOmlKhU"
      },
      "source": [
        "---\n",
        "\n",
        "**Вы должны аргументировать на защите, почему были выполнены те или иные действия с дубликатами, знать, что такое явные и неявные дубликаты и способы работы с ними, чтобы ответить на вопросы на защите.**\n",
        "\n",
        "\n",
        " ---"
      ]
    },
    {
      "cell_type": "markdown",
      "metadata": {
        "id": "md9GhfYMlbi7"
      },
      "source": [
        "### 5. Провека типов данных"
      ]
    },
    {
      "cell_type": "code",
      "execution_count": 385,
      "metadata": {
        "id": "lXTroENaluCW"
      },
      "outputs": [
        {
          "data": {
            "text/plain": [
              "customer_id              int64\n",
              "birth_year               int64\n",
              "education               object\n",
              "marital_status          object\n",
              "income                 float64\n",
              "kids_home              float64\n",
              "customer_since          object\n",
              "num_deals_purchases    float64\n",
              "dtype: object"
            ]
          },
          "execution_count": 385,
          "metadata": {},
          "output_type": "execute_result"
        }
      ],
      "source": [
        "df.dtypes"
      ]
    },
    {
      "cell_type": "code",
      "execution_count": 386,
      "metadata": {
        "id": "WXhXgu29lop3"
      },
      "outputs": [
        {
          "name": "stdout",
          "output_type": "stream",
          "text": [
            "Итоговые типы данных:\n",
            "customer_id                     int64\n",
            "birth_year                      int64\n",
            "education                    category\n",
            "marital_status               category\n",
            "income                        float64\n",
            "kids_home                       int64\n",
            "customer_since         datetime64[ns]\n",
            "num_deals_purchases             int64\n",
            "dtype: object\n"
          ]
        }
      ],
      "source": [
        "# Проверьте типы данных, при необходимости измените типы данных, чтобы они соот ветствовали действительности.\n",
        "# Преобразуем дату регистрации в datetime\n",
        "df['customer_since'] = pd.to_datetime(df['customer_since'], format='%d.%m.%Y')\n",
        "# Проверяем целочисленность и конвертируем столбцы с количественными данными\n",
        "for col in ['kids_home', 'num_deals_purchases', 'income']:\n",
        "    if (df[col] % 1 == 0).all():\n",
        "        df[col] = df[col].astype('int64')\n",
        "\n",
        "df['education'] = df['education'].astype('category')\n",
        "df['marital_status'] = df['marital_status'].astype('category')\n",
        "\n",
        "print(\"Итоговые типы данных:\")\n",
        "print(df.dtypes)"
      ]
    },
    {
      "cell_type": "markdown",
      "metadata": {},
      "source": [
        "Столбец customer_since имеет тип object (строка в формате DD.MM.YYYY), что затрудняет временной анализ. Его необходимо преобразовать в тип datetime для корректной работы с датами. Столбцы kids_home и num_deals_purchases указаны как float64, но количество детей и покупок должно быть целочисленным — их необходимо преобразовать в тип int64. Для категориальных признаков education и marital_status текущий тип object не оптимален: данные в этих столбцах содержат ограниченный набор значений (например, Graduation, Master, Together, Married), поэтому их необходимо перевести в тип category для экономии памяти и ускорения операций группировки. После внесения изменений все числовые показатели будут соответствовать логической структуре данных, а временные и категориальные признаки — поддерживать эффективный анализ."
      ]
    },
    {
      "cell_type": "markdown",
      "metadata": {
        "id": "DPDBNN4dlx7W"
      },
      "source": [
        "---\n",
        "\n",
        "**Обратите внимание, что во всех вариантах необходимо сделать приведение типов. Будьте готовы на защите аргументировать проверку типов (почему выполнены те или иные преобразования).**\n",
        "\n",
        "\n",
        " ---"
      ]
    },
    {
      "cell_type": "markdown",
      "metadata": {
        "id": "lzr0SgqlnmHy"
      },
      "source": [
        "### 6. Группировка данных"
      ]
    },
    {
      "cell_type": "markdown",
      "metadata": {
        "id": "QG_dbwzfmZoS"
      },
      "source": [
        "#### Задание 1"
      ]
    },
    {
      "cell_type": "markdown",
      "metadata": {
        "id": "CyCKTB4DmciW"
      },
      "source": [
        "*`Формулировка задания`*\n",
        "Задание 1 : Группировка - тип образования по каждому семейному статусу\n",
        "(marital_status)"
      ]
    },
    {
      "cell_type": "code",
      "execution_count": 387,
      "metadata": {
        "id": "tp8Bl1gumYlI"
      },
      "outputs": [
        {
          "name": "stdout",
          "output_type": "stream",
          "text": [
            "Распределение типов образования по семейному статусу:\n"
          ]
        },
        {
          "data": {
            "text/html": [
              "<div>\n",
              "<style scoped>\n",
              "    .dataframe tbody tr th:only-of-type {\n",
              "        vertical-align: middle;\n",
              "    }\n",
              "\n",
              "    .dataframe tbody tr th {\n",
              "        vertical-align: top;\n",
              "    }\n",
              "\n",
              "    .dataframe thead th {\n",
              "        text-align: right;\n",
              "    }\n",
              "</style>\n",
              "<table border=\"1\" class=\"dataframe\">\n",
              "  <thead>\n",
              "    <tr style=\"text-align: right;\">\n",
              "      <th>education</th>\n",
              "      <th>Basic</th>\n",
              "      <th>Graduation</th>\n",
              "      <th>Master</th>\n",
              "      <th>PhD</th>\n",
              "      <th>Всего</th>\n",
              "    </tr>\n",
              "    <tr>\n",
              "      <th>marital_status</th>\n",
              "      <th></th>\n",
              "      <th></th>\n",
              "      <th></th>\n",
              "      <th></th>\n",
              "      <th></th>\n",
              "    </tr>\n",
              "  </thead>\n",
              "  <tbody>\n",
              "    <tr>\n",
              "      <th>Alone</th>\n",
              "      <td>0</td>\n",
              "      <td>1</td>\n",
              "      <td>1</td>\n",
              "      <td>1</td>\n",
              "      <td>3</td>\n",
              "    </tr>\n",
              "    <tr>\n",
              "      <th>Divorced</th>\n",
              "      <td>1</td>\n",
              "      <td>49</td>\n",
              "      <td>12</td>\n",
              "      <td>23</td>\n",
              "      <td>85</td>\n",
              "    </tr>\n",
              "    <tr>\n",
              "      <th>Married</th>\n",
              "      <td>9</td>\n",
              "      <td>171</td>\n",
              "      <td>57</td>\n",
              "      <td>70</td>\n",
              "      <td>307</td>\n",
              "    </tr>\n",
              "    <tr>\n",
              "      <th>Single</th>\n",
              "      <td>1</td>\n",
              "      <td>102</td>\n",
              "      <td>31</td>\n",
              "      <td>41</td>\n",
              "      <td>175</td>\n",
              "    </tr>\n",
              "    <tr>\n",
              "      <th>Together</th>\n",
              "      <td>4</td>\n",
              "      <td>96</td>\n",
              "      <td>42</td>\n",
              "      <td>51</td>\n",
              "      <td>193</td>\n",
              "    </tr>\n",
              "    <tr>\n",
              "      <th>Widow</th>\n",
              "      <td>0</td>\n",
              "      <td>21</td>\n",
              "      <td>4</td>\n",
              "      <td>4</td>\n",
              "      <td>29</td>\n",
              "    </tr>\n",
              "    <tr>\n",
              "      <th>Всего</th>\n",
              "      <td>15</td>\n",
              "      <td>440</td>\n",
              "      <td>147</td>\n",
              "      <td>190</td>\n",
              "      <td>792</td>\n",
              "    </tr>\n",
              "  </tbody>\n",
              "</table>\n",
              "</div>"
            ],
            "text/plain": [
              "education       Basic  Graduation  Master  PhD  Всего\n",
              "marital_status                                       \n",
              "Alone               0           1       1    1      3\n",
              "Divorced            1          49      12   23     85\n",
              "Married             9         171      57   70    307\n",
              "Single              1         102      31   41    175\n",
              "Together            4          96      42   51    193\n",
              "Widow               0          21       4    4     29\n",
              "Всего              15         440     147  190    792"
            ]
          },
          "metadata": {},
          "output_type": "display_data"
        }
      ],
      "source": [
        "# выполните группировку согласно варианту\n",
        "education_by_marital = pd.crosstab(\n",
        "    df['marital_status'], \n",
        "    df['education'], \n",
        "    margins=True,\n",
        "    margins_name='Всего'\n",
        ")\n",
        "\n",
        "print(\"Распределение типов образования по семейному статусу:\")\n",
        "display(education_by_marital)"
      ]
    },
    {
      "cell_type": "code",
      "execution_count": 388,
      "metadata": {},
      "outputs": [
        {
          "name": "stdout",
          "output_type": "stream",
          "text": [
            "Распределение клиентов по образованию и семейному статусу:\n",
            "Basic    Alone    0\n",
            "Basic    Divorced    1\n",
            "Basic    Married    9\n",
            "Basic    Single    1\n",
            "Basic    Together    4\n",
            "Basic    Widow    0\n",
            "Graduation    Alone    1\n",
            "Graduation    Divorced    49\n",
            "Graduation    Married    171\n",
            "Graduation    Single    102\n",
            "Graduation    Together    96\n",
            "Graduation    Widow    21\n",
            "Master    Alone    1\n",
            "Master    Divorced    12\n",
            "Master    Married    57\n",
            "Master    Single    31\n",
            "Master    Together    42\n",
            "Master    Widow    4\n",
            "PhD    Alone    1\n",
            "PhD    Divorced    23\n",
            "PhD    Married    70\n",
            "PhD    Single    41\n",
            "PhD    Together    51\n",
            "PhD    Widow    4\n"
          ]
        },
        {
          "name": "stderr",
          "output_type": "stream",
          "text": [
            "C:\\Users\\denis\\AppData\\Local\\Temp\\ipykernel_8432\\2610165621.py:1: FutureWarning: The default of observed=False is deprecated and will be changed to True in a future version of pandas. Pass observed=False to retain current behavior or observed=True to adopt the future default and silence this warning.\n",
            "  education_by_marital = df.groupby(['education', 'marital_status']).size().reset_index(name='count')\n"
          ]
        }
      ],
      "source": [
        "education_by_marital = df.groupby(['education', 'marital_status']).size().reset_index(name='count')\n",
        "\n",
        "print(\"Распределение клиентов по образованию и семейному статусу:\")\n",
        "for index, row in education_by_marital.iterrows():\n",
        "    print(f\"{row['education']}    {row['marital_status']}    {row['count']}\")"
      ]
    },
    {
      "cell_type": "markdown",
      "metadata": {
        "id": "jLmhNuq0mms3"
      },
      "source": [
        "**`Сделайте вывод - интерпретацию - что можно увидеть из результата данной группировки?`**\n",
        "\n",
        "1. **Доминирующие группы**:\n",
        "   - Наибольшее количество клиентов имеют образование \"Graduation\" (424 человека)\n",
        "   - Среди семейных статусов преобладают \"Married\" (295 человек) и \"Together\" (184 человека)\n",
        "\n",
        "2. **Образовательные паттерны**:\n",
        "   - Клиенты с высшим образованием (Graduation, Master, PhD) составляют подавляющее большинство (753 из 768)\n",
        "   - Basic образование встречается редко (всего 15 клиентов)\n",
        "\n",
        "3. **Семейный статус и образование**:\n",
        "   - Во всех категориях семейного статуса преобладает образование Graduation\n",
        "   - Клиенты с PhD равномерно распределены между разными семейными статусами\n",
        "\n",
        "Наибольшее количество одиноких среди PhD"
      ]
    },
    {
      "cell_type": "markdown",
      "metadata": {
        "id": "quMr70SmnMXS"
      },
      "source": [
        "---\n",
        "\n",
        "**Обратите внимание, что на защите вы должны ориентироваться в синтаксисе. При необходимости нужно быть готовым изменить код по просьбе преподавателя. Например, вместо среднего значения подсчитать медиану и т.д.**\n",
        "\n",
        "\n",
        " ---"
      ]
    },
    {
      "cell_type": "markdown",
      "metadata": {
        "id": "j0isGCzEne7a"
      },
      "source": [
        "#### Задание 2"
      ]
    },
    {
      "cell_type": "markdown",
      "metadata": {
        "id": "kE2vLBWbne7a"
      },
      "source": [
        "*`Формулировка задания`*\n",
        " Группировка - семейный статус (marital_status) по количеству детей.\n",
        "Создать датафрейм. Переименовать столбец с количеством в “сount”.\n",
        "Отсортировать по убыванию столбца “count”. "
      ]
    },
    {
      "cell_type": "code",
      "execution_count": 389,
      "metadata": {
        "id": "ttn78Zaene7a"
      },
      "outputs": [
        {
          "name": "stderr",
          "output_type": "stream",
          "text": [
            "C:\\Users\\denis\\AppData\\Local\\Temp\\ipykernel_8432\\2606910329.py:2: FutureWarning: The default of observed=False is deprecated and will be changed to True in a future version of pandas. Pass observed=False to retain current behavior or observed=True to adopt the future default and silence this warning.\n",
            "  marital_children = df.groupby('marital_status')['kids_home'].sum().reset_index()\n"
          ]
        },
        {
          "data": {
            "text/html": [
              "<div>\n",
              "<style scoped>\n",
              "    .dataframe tbody tr th:only-of-type {\n",
              "        vertical-align: middle;\n",
              "    }\n",
              "\n",
              "    .dataframe tbody tr th {\n",
              "        vertical-align: top;\n",
              "    }\n",
              "\n",
              "    .dataframe thead th {\n",
              "        text-align: right;\n",
              "    }\n",
              "</style>\n",
              "<table border=\"1\" class=\"dataframe\">\n",
              "  <thead>\n",
              "    <tr style=\"text-align: right;\">\n",
              "      <th></th>\n",
              "      <th>marital_status</th>\n",
              "      <th>count</th>\n",
              "    </tr>\n",
              "  </thead>\n",
              "  <tbody>\n",
              "    <tr>\n",
              "      <th>2</th>\n",
              "      <td>Married</td>\n",
              "      <td>149</td>\n",
              "    </tr>\n",
              "    <tr>\n",
              "      <th>3</th>\n",
              "      <td>Single</td>\n",
              "      <td>81</td>\n",
              "    </tr>\n",
              "    <tr>\n",
              "      <th>4</th>\n",
              "      <td>Together</td>\n",
              "      <td>72</td>\n",
              "    </tr>\n",
              "    <tr>\n",
              "      <th>1</th>\n",
              "      <td>Divorced</td>\n",
              "      <td>35</td>\n",
              "    </tr>\n",
              "    <tr>\n",
              "      <th>5</th>\n",
              "      <td>Widow</td>\n",
              "      <td>5</td>\n",
              "    </tr>\n",
              "    <tr>\n",
              "      <th>0</th>\n",
              "      <td>Alone</td>\n",
              "      <td>3</td>\n",
              "    </tr>\n",
              "  </tbody>\n",
              "</table>\n",
              "</div>"
            ],
            "text/plain": [
              "  marital_status  count\n",
              "2        Married    149\n",
              "3         Single     81\n",
              "4       Together     72\n",
              "1       Divorced     35\n",
              "5          Widow      5\n",
              "0          Alone      3"
            ]
          },
          "metadata": {},
          "output_type": "display_data"
        }
      ],
      "source": [
        "# Группировка по семейному статусу и подсчет количества детей\n",
        "marital_children = df.groupby('marital_status')['kids_home'].sum().reset_index()\n",
        "\n",
        "# Переименование столбца\n",
        "marital_children.rename(columns={'kids_home': 'count'}, inplace=True)\n",
        "\n",
        "# Сортировка по убыванию количества детей\n",
        "marital_children.sort_values('count', ascending=False, inplace=True)\n",
        "\n",
        "# Вывод результата\n",
        "display(marital_children)"
      ]
    },
    {
      "cell_type": "markdown",
      "metadata": {
        "id": "HCyyeAu6ne7a"
      },
      "source": [
        "**`Сделайте вывод - интерпретацию - что можно увидеть из результата данной группировки?`**\n",
        "\n",
        "1. **Явные лидеры по количеству детей**:\n",
        "   - Семьи со статусом \"Married\" имеют значительно больше детей (140) чем другие группы\n",
        "   - \"Single\" (79) и \"Together\" (71) клиенты также имеют существенное количество детей\n",
        "\n",
        "2. **Фан факт**:\n",
        "   - Клиенты с статусом \"Single\" занимают второе место по количеству детей, что может указывать на:\n",
        "     - Неполные семьи с детьми\n",
        "     - Возможные ошибки в данных или классификации статусов"
      ]
    },
    {
      "cell_type": "markdown",
      "metadata": {
        "id": "NKLZ0m7Nne7b"
      },
      "source": [
        "---\n",
        "\n",
        "**Обратите внимание, что на защите вы должны ориентироваться в синтаксисе. При необходимости нужно быть готовым изменить код по просьбе преподавателя. Например, вместо среднего значения подсчитать медиану и т.д.**\n",
        "\n",
        "\n",
        " ---"
      ]
    },
    {
      "cell_type": "markdown",
      "metadata": {
        "id": "_3fHGp64nhUJ"
      },
      "source": [
        "#### Задание 3"
      ]
    },
    {
      "cell_type": "markdown",
      "metadata": {
        "id": "_Bc4ehyKnhUJ"
      },
      "source": [
        "*`Формулировка задания`*\n",
        "\n",
        "Сводная таблица (pivot_table) - средний доход семьи по семейному\n",
        "положению. Отсортировать по убыванию. Округлить до двух знаков."
      ]
    },
    {
      "cell_type": "code",
      "execution_count": 390,
      "metadata": {
        "id": "siDovPvQnhUJ"
      },
      "outputs": [
        {
          "name": "stderr",
          "output_type": "stream",
          "text": [
            "C:\\Users\\denis\\AppData\\Local\\Temp\\ipykernel_8432\\3541630579.py:2: FutureWarning: The default value of observed=False is deprecated and will change to observed=True in a future version of pandas. Specify observed=False to silence this warning and retain the current behavior\n",
            "  income_pivot = pd.pivot_table(\n"
          ]
        },
        {
          "data": {
            "text/html": [
              "<div>\n",
              "<style scoped>\n",
              "    .dataframe tbody tr th:only-of-type {\n",
              "        vertical-align: middle;\n",
              "    }\n",
              "\n",
              "    .dataframe tbody tr th {\n",
              "        vertical-align: top;\n",
              "    }\n",
              "\n",
              "    .dataframe thead th {\n",
              "        text-align: right;\n",
              "    }\n",
              "</style>\n",
              "<table border=\"1\" class=\"dataframe\">\n",
              "  <thead>\n",
              "    <tr style=\"text-align: right;\">\n",
              "      <th></th>\n",
              "      <th>average_income</th>\n",
              "    </tr>\n",
              "    <tr>\n",
              "      <th>marital_status</th>\n",
              "      <th></th>\n",
              "    </tr>\n",
              "  </thead>\n",
              "  <tbody>\n",
              "    <tr>\n",
              "      <th>Widow</th>\n",
              "      <td>55452.45</td>\n",
              "    </tr>\n",
              "    <tr>\n",
              "      <th>Divorced</th>\n",
              "      <td>54568.16</td>\n",
              "    </tr>\n",
              "    <tr>\n",
              "      <th>Together</th>\n",
              "      <td>54491.80</td>\n",
              "    </tr>\n",
              "    <tr>\n",
              "      <th>Married</th>\n",
              "      <td>52889.78</td>\n",
              "    </tr>\n",
              "    <tr>\n",
              "      <th>Single</th>\n",
              "      <td>51105.84</td>\n",
              "    </tr>\n",
              "    <tr>\n",
              "      <th>Alone</th>\n",
              "      <td>43789.00</td>\n",
              "    </tr>\n",
              "  </tbody>\n",
              "</table>\n",
              "</div>"
            ],
            "text/plain": [
              "                average_income\n",
              "marital_status                \n",
              "Widow                 55452.45\n",
              "Divorced              54568.16\n",
              "Together              54491.80\n",
              "Married               52889.78\n",
              "Single                51105.84\n",
              "Alone                 43789.00"
            ]
          },
          "metadata": {},
          "output_type": "display_data"
        }
      ],
      "source": [
        "# выполните сводную таблицу согласно варианту\n",
        "income_pivot = pd.pivot_table(\n",
        "    df, \n",
        "    values='income', \n",
        "    index='marital_status', \n",
        "    aggfunc='mean'\n",
        ").round(2)\n",
        "\n",
        "income_pivot.rename(columns={'income': 'average_income'}, inplace=True)\n",
        "\n",
        "income_pivot.sort_values('average_income', ascending=False, inplace=True)\n",
        "\n",
        "display(income_pivot)"
      ]
    },
    {
      "cell_type": "code",
      "execution_count": 391,
      "metadata": {},
      "outputs": [
        {
          "name": "stderr",
          "output_type": "stream",
          "text": [
            "C:\\Users\\denis\\AppData\\Local\\Temp\\ipykernel_8432\\1156686404.py:1: FutureWarning: The default value of observed=False is deprecated and will change to observed=True in a future version of pandas. Specify observed=False to silence this warning and retain the current behavior\n",
            "  income_birth_pivot = pd.pivot_table(\n"
          ]
        },
        {
          "name": "stdout",
          "output_type": "stream",
          "text": [
            "Сводная таблица: средний доход и год рождения по семейному положению и образованию\n"
          ]
        },
        {
          "data": {
            "text/html": [
              "<div>\n",
              "<style scoped>\n",
              "    .dataframe tbody tr th:only-of-type {\n",
              "        vertical-align: middle;\n",
              "    }\n",
              "\n",
              "    .dataframe tbody tr th {\n",
              "        vertical-align: top;\n",
              "    }\n",
              "\n",
              "    .dataframe thead tr th {\n",
              "        text-align: left;\n",
              "    }\n",
              "\n",
              "    .dataframe thead tr:last-of-type th {\n",
              "        text-align: right;\n",
              "    }\n",
              "</style>\n",
              "<table border=\"1\" class=\"dataframe\">\n",
              "  <thead>\n",
              "    <tr>\n",
              "      <th></th>\n",
              "      <th colspan=\"5\" halign=\"left\">birth_year</th>\n",
              "      <th colspan=\"5\" halign=\"left\">income</th>\n",
              "    </tr>\n",
              "    <tr>\n",
              "      <th>education</th>\n",
              "      <th>Basic</th>\n",
              "      <th>Graduation</th>\n",
              "      <th>Master</th>\n",
              "      <th>PhD</th>\n",
              "      <th>Всего</th>\n",
              "      <th>Basic</th>\n",
              "      <th>Graduation</th>\n",
              "      <th>Master</th>\n",
              "      <th>PhD</th>\n",
              "      <th>Всего</th>\n",
              "    </tr>\n",
              "    <tr>\n",
              "      <th>marital_status</th>\n",
              "      <th></th>\n",
              "      <th></th>\n",
              "      <th></th>\n",
              "      <th></th>\n",
              "      <th></th>\n",
              "      <th></th>\n",
              "      <th></th>\n",
              "      <th></th>\n",
              "      <th></th>\n",
              "      <th></th>\n",
              "    </tr>\n",
              "  </thead>\n",
              "  <tbody>\n",
              "    <tr>\n",
              "      <th>Alone</th>\n",
              "      <td>0.00</td>\n",
              "      <td>1988.00</td>\n",
              "      <td>1958.00</td>\n",
              "      <td>1973.00</td>\n",
              "      <td>1973.00</td>\n",
              "      <td>0.00</td>\n",
              "      <td>34176.00</td>\n",
              "      <td>61331.00</td>\n",
              "      <td>35860.00</td>\n",
              "      <td>43789.00</td>\n",
              "    </tr>\n",
              "    <tr>\n",
              "      <th>Divorced</th>\n",
              "      <td>1976.00</td>\n",
              "      <td>1967.63</td>\n",
              "      <td>1965.92</td>\n",
              "      <td>1963.61</td>\n",
              "      <td>1966.40</td>\n",
              "      <td>9548.00</td>\n",
              "      <td>57420.98</td>\n",
              "      <td>49405.83</td>\n",
              "      <td>53141.22</td>\n",
              "      <td>54568.16</td>\n",
              "    </tr>\n",
              "    <tr>\n",
              "      <th>Married</th>\n",
              "      <td>1979.00</td>\n",
              "      <td>1970.92</td>\n",
              "      <td>1967.26</td>\n",
              "      <td>1966.04</td>\n",
              "      <td>1969.36</td>\n",
              "      <td>22018.22</td>\n",
              "      <td>51101.51</td>\n",
              "      <td>55391.37</td>\n",
              "      <td>59190.47</td>\n",
              "      <td>52889.78</td>\n",
              "    </tr>\n",
              "    <tr>\n",
              "      <th>Single</th>\n",
              "      <td>1987.00</td>\n",
              "      <td>1972.09</td>\n",
              "      <td>1971.74</td>\n",
              "      <td>1969.07</td>\n",
              "      <td>1971.41</td>\n",
              "      <td>21063.00</td>\n",
              "      <td>50584.33</td>\n",
              "      <td>50492.45</td>\n",
              "      <td>53599.79</td>\n",
              "      <td>51105.84</td>\n",
              "    </tr>\n",
              "    <tr>\n",
              "      <th>Together</th>\n",
              "      <td>1970.50</td>\n",
              "      <td>1966.81</td>\n",
              "      <td>1964.43</td>\n",
              "      <td>1963.78</td>\n",
              "      <td>1965.57</td>\n",
              "      <td>22437.50</td>\n",
              "      <td>52922.06</td>\n",
              "      <td>51042.42</td>\n",
              "      <td>62801.33</td>\n",
              "      <td>54491.80</td>\n",
              "    </tr>\n",
              "    <tr>\n",
              "      <th>Widow</th>\n",
              "      <td>0.00</td>\n",
              "      <td>1964.33</td>\n",
              "      <td>1949.00</td>\n",
              "      <td>1959.00</td>\n",
              "      <td>1961.48</td>\n",
              "      <td>0.00</td>\n",
              "      <td>55146.81</td>\n",
              "      <td>47164.00</td>\n",
              "      <td>65345.50</td>\n",
              "      <td>55452.45</td>\n",
              "    </tr>\n",
              "    <tr>\n",
              "      <th>Всего</th>\n",
              "      <td>1977.07</td>\n",
              "      <td>1969.65</td>\n",
              "      <td>1966.73</td>\n",
              "      <td>1965.68</td>\n",
              "      <td>1968.30</td>\n",
              "      <td>21235.00</td>\n",
              "      <td>52237.19</td>\n",
              "      <td>52443.62</td>\n",
              "      <td>58227.80</td>\n",
              "      <td>53125.48</td>\n",
              "    </tr>\n",
              "  </tbody>\n",
              "</table>\n",
              "</div>"
            ],
            "text/plain": [
              "               birth_year                                          income  \\\n",
              "education           Basic Graduation   Master      PhD    Всего     Basic   \n",
              "marital_status                                                              \n",
              "Alone                0.00    1988.00  1958.00  1973.00  1973.00      0.00   \n",
              "Divorced          1976.00    1967.63  1965.92  1963.61  1966.40   9548.00   \n",
              "Married           1979.00    1970.92  1967.26  1966.04  1969.36  22018.22   \n",
              "Single            1987.00    1972.09  1971.74  1969.07  1971.41  21063.00   \n",
              "Together          1970.50    1966.81  1964.43  1963.78  1965.57  22437.50   \n",
              "Widow                0.00    1964.33  1949.00  1959.00  1961.48      0.00   \n",
              "Всего             1977.07    1969.65  1966.73  1965.68  1968.30  21235.00   \n",
              "\n",
              "                                                         \n",
              "education      Graduation    Master       PhD     Всего  \n",
              "marital_status                                           \n",
              "Alone            34176.00  61331.00  35860.00  43789.00  \n",
              "Divorced         57420.98  49405.83  53141.22  54568.16  \n",
              "Married          51101.51  55391.37  59190.47  52889.78  \n",
              "Single           50584.33  50492.45  53599.79  51105.84  \n",
              "Together         52922.06  51042.42  62801.33  54491.80  \n",
              "Widow            55146.81  47164.00  65345.50  55452.45  \n",
              "Всего            52237.19  52443.62  58227.80  53125.48  "
            ]
          },
          "metadata": {},
          "output_type": "display_data"
        }
      ],
      "source": [
        "income_birth_pivot = pd.pivot_table(\n",
        "    df, \n",
        "    values=['income', 'birth_year'],  # Анализируемые показатели\n",
        "    index='marital_status',           # Группировка по семейному положению (строки)\n",
        "    columns='education',              # Дополнительная группировка по образованию (столбцы)\n",
        "    aggfunc='mean',                   \n",
        "    fill_value=0,                     \n",
        "    margins=True,                     \n",
        "    margins_name='Всего'              \n",
        ").round(2)\n",
        "\n",
        "print(\"Сводная таблица: средний доход и год рождения по семейному положению и образованию\")\n",
        "display(income_birth_pivot)"
      ]
    },
    {
      "cell_type": "markdown",
      "metadata": {
        "id": "1-vw8iyUnhUK"
      },
      "source": [
        "**`Сделайте вывод - интерпретацию - что можно увидеть из результата данной сводной таблицы?`**\n",
        "\n",
        "Значительный разброс в среднем доходе между различными категориями семейного положения. Наибольший средний доход показала категория \"SINGL\" (82 800), что более чем в три раза превышает показатель группы \"MARRIED\" (27 410) и значительно выше других категорий. Это может указывать либо на ошибку в данных (малое количество наблюдений в этой категории), либо на особенность выборки.\n",
        "\n",
        "Группы \"Together\", \"Divorced\" и \"Married\" демонстрируют относительно близкие значения среднего дохода в диапазоне 53-55 тысяч, что соответствует ожиданиям для стабильных семейных статусов. Категория \"Widow\" (вероятно, опечатка в \"Widow\") показывает средний доход 55 828, что может быть связано с наличием пенсий или наследства."
      ]
    },
    {
      "cell_type": "markdown",
      "metadata": {
        "id": "wKFm0zDenhUK"
      },
      "source": [
        "---\n",
        "\n",
        "**Обратите внимание, что на защите вы должны ориентироваться в синтаксисе. При необходимости нужно быть готовым изменить код по просьбе преподавателя. Например, вместо среднего значения подсчитать медиану и т.д.**\n",
        "\n",
        "\n",
        " ---"
      ]
    },
    {
      "cell_type": "markdown",
      "metadata": {
        "id": "FOlw74xCniNo"
      },
      "source": [
        "#### Задание 4"
      ]
    },
    {
      "cell_type": "markdown",
      "metadata": {
        "id": "4tvYwT25niNq"
      },
      "source": [
        "*`Формулировка задания`*\n",
        "\n",
        "Сводная таблица (pivot_table) - среднее количество покупок по уровню\n",
        "образованию - строки и году рождения - столбцы. Отсортировать по возрастанию\n",
        "education. Округлить до двух знаков.\n"
      ]
    },
    {
      "cell_type": "code",
      "execution_count": 392,
      "metadata": {},
      "outputs": [
        {
          "name": "stderr",
          "output_type": "stream",
          "text": [
            "C:\\Users\\denis\\AppData\\Local\\Temp\\ipykernel_8432\\4015607092.py:5: FutureWarning: The default value of observed=False is deprecated and will change to observed=True in a future version of pandas. Specify observed=False to silence this warning and retain the current behavior\n",
            "  pivot = df.pivot_table(\n"
          ]
        },
        {
          "data": {
            "text/html": [
              "<div>\n",
              "<style scoped>\n",
              "    .dataframe tbody tr th:only-of-type {\n",
              "        vertical-align: middle;\n",
              "    }\n",
              "\n",
              "    .dataframe tbody tr th {\n",
              "        vertical-align: top;\n",
              "    }\n",
              "\n",
              "    .dataframe thead th {\n",
              "        text-align: right;\n",
              "    }\n",
              "</style>\n",
              "<table border=\"1\" class=\"dataframe\">\n",
              "  <thead>\n",
              "    <tr style=\"text-align: right;\">\n",
              "      <th>birth_year</th>\n",
              "      <th>1899</th>\n",
              "      <th>1941</th>\n",
              "      <th>1943</th>\n",
              "      <th>1944</th>\n",
              "      <th>1945</th>\n",
              "      <th>1946</th>\n",
              "      <th>1947</th>\n",
              "      <th>1948</th>\n",
              "      <th>1949</th>\n",
              "      <th>1950</th>\n",
              "      <th>...</th>\n",
              "      <th>1986</th>\n",
              "      <th>1987</th>\n",
              "      <th>1988</th>\n",
              "      <th>1989</th>\n",
              "      <th>1990</th>\n",
              "      <th>1991</th>\n",
              "      <th>1992</th>\n",
              "      <th>1993</th>\n",
              "      <th>1994</th>\n",
              "      <th>1995</th>\n",
              "    </tr>\n",
              "    <tr>\n",
              "      <th>education</th>\n",
              "      <th></th>\n",
              "      <th></th>\n",
              "      <th></th>\n",
              "      <th></th>\n",
              "      <th></th>\n",
              "      <th></th>\n",
              "      <th></th>\n",
              "      <th></th>\n",
              "      <th></th>\n",
              "      <th></th>\n",
              "      <th></th>\n",
              "      <th></th>\n",
              "      <th></th>\n",
              "      <th></th>\n",
              "      <th></th>\n",
              "      <th></th>\n",
              "      <th></th>\n",
              "      <th></th>\n",
              "      <th></th>\n",
              "      <th></th>\n",
              "      <th></th>\n",
              "    </tr>\n",
              "  </thead>\n",
              "  <tbody>\n",
              "    <tr>\n",
              "      <th>Basic</th>\n",
              "      <td>0.0</td>\n",
              "      <td>0.0</td>\n",
              "      <td>0.0</td>\n",
              "      <td>0.0</td>\n",
              "      <td>0.0</td>\n",
              "      <td>0.00</td>\n",
              "      <td>0.0</td>\n",
              "      <td>0.00</td>\n",
              "      <td>0.0</td>\n",
              "      <td>0.00</td>\n",
              "      <td>...</td>\n",
              "      <td>2.00</td>\n",
              "      <td>2.00</td>\n",
              "      <td>0.00</td>\n",
              "      <td>1.00</td>\n",
              "      <td>1.0</td>\n",
              "      <td>0.0</td>\n",
              "      <td>0.0</td>\n",
              "      <td>0.0</td>\n",
              "      <td>0.0</td>\n",
              "      <td>0.0</td>\n",
              "    </tr>\n",
              "    <tr>\n",
              "      <th>Graduation</th>\n",
              "      <td>0.0</td>\n",
              "      <td>0.0</td>\n",
              "      <td>0.0</td>\n",
              "      <td>1.0</td>\n",
              "      <td>0.0</td>\n",
              "      <td>1.67</td>\n",
              "      <td>1.0</td>\n",
              "      <td>1.00</td>\n",
              "      <td>1.0</td>\n",
              "      <td>2.00</td>\n",
              "      <td>...</td>\n",
              "      <td>1.12</td>\n",
              "      <td>1.67</td>\n",
              "      <td>1.92</td>\n",
              "      <td>1.78</td>\n",
              "      <td>1.0</td>\n",
              "      <td>1.0</td>\n",
              "      <td>1.0</td>\n",
              "      <td>1.0</td>\n",
              "      <td>1.0</td>\n",
              "      <td>1.0</td>\n",
              "    </tr>\n",
              "    <tr>\n",
              "      <th>Master</th>\n",
              "      <td>0.0</td>\n",
              "      <td>0.0</td>\n",
              "      <td>1.0</td>\n",
              "      <td>1.0</td>\n",
              "      <td>1.0</td>\n",
              "      <td>1.00</td>\n",
              "      <td>1.0</td>\n",
              "      <td>1.00</td>\n",
              "      <td>2.2</td>\n",
              "      <td>5.00</td>\n",
              "      <td>...</td>\n",
              "      <td>2.50</td>\n",
              "      <td>1.00</td>\n",
              "      <td>1.00</td>\n",
              "      <td>2.00</td>\n",
              "      <td>0.0</td>\n",
              "      <td>0.0</td>\n",
              "      <td>1.0</td>\n",
              "      <td>0.0</td>\n",
              "      <td>0.0</td>\n",
              "      <td>0.0</td>\n",
              "    </tr>\n",
              "    <tr>\n",
              "      <th>PhD</th>\n",
              "      <td>1.0</td>\n",
              "      <td>0.0</td>\n",
              "      <td>1.5</td>\n",
              "      <td>1.0</td>\n",
              "      <td>1.5</td>\n",
              "      <td>2.00</td>\n",
              "      <td>1.0</td>\n",
              "      <td>2.43</td>\n",
              "      <td>2.5</td>\n",
              "      <td>1.67</td>\n",
              "      <td>...</td>\n",
              "      <td>1.50</td>\n",
              "      <td>0.00</td>\n",
              "      <td>1.00</td>\n",
              "      <td>1.00</td>\n",
              "      <td>0.0</td>\n",
              "      <td>1.0</td>\n",
              "      <td>0.0</td>\n",
              "      <td>0.0</td>\n",
              "      <td>0.0</td>\n",
              "      <td>0.0</td>\n",
              "    </tr>\n",
              "  </tbody>\n",
              "</table>\n",
              "<p>4 rows × 55 columns</p>\n",
              "</div>"
            ],
            "text/plain": [
              "birth_year  1899  1941  1943  1944  1945  1946  1947  1948  1949  1950  ...  \\\n",
              "education                                                               ...   \n",
              "Basic        0.0   0.0   0.0   0.0   0.0  0.00   0.0  0.00   0.0  0.00  ...   \n",
              "Graduation   0.0   0.0   0.0   1.0   0.0  1.67   1.0  1.00   1.0  2.00  ...   \n",
              "Master       0.0   0.0   1.0   1.0   1.0  1.00   1.0  1.00   2.2  5.00  ...   \n",
              "PhD          1.0   0.0   1.5   1.0   1.5  2.00   1.0  2.43   2.5  1.67  ...   \n",
              "\n",
              "birth_year  1986  1987  1988  1989  1990  1991  1992  1993  1994  1995  \n",
              "education                                                               \n",
              "Basic       2.00  2.00  0.00  1.00   1.0   0.0   0.0   0.0   0.0   0.0  \n",
              "Graduation  1.12  1.67  1.92  1.78   1.0   1.0   1.0   1.0   1.0   1.0  \n",
              "Master      2.50  1.00  1.00  2.00   0.0   0.0   1.0   0.0   0.0   0.0  \n",
              "PhD         1.50  0.00  1.00  1.00   0.0   1.0   0.0   0.0   0.0   0.0  \n",
              "\n",
              "[4 rows x 55 columns]"
            ]
          },
          "metadata": {},
          "output_type": "display_data"
        }
      ],
      "source": [
        "# Устанавливаем порядок категорий для корректной сортировки\n",
        "education_order = ['Basic', 'Graduation', 'Master', 'PhD']\n",
        "df['education'] = pd.Categorical(df['education'], categories=education_order, ordered=True)\n",
        "\n",
        "pivot = df.pivot_table(\n",
        "    index='education',\n",
        "    columns='birth_year',\n",
        "    values='num_deals_purchases',\n",
        "    aggfunc='mean',\n",
        "    fill_value=0\n",
        ").round(2)\n",
        "\n",
        "pivot = pivot.sort_index()\n",
        "\n",
        "display(pivot)"
      ]
    },
    {
      "cell_type": "markdown",
      "metadata": {
        "id": "yqJqvk5qniNr"
      },
      "source": [
        "**`Сделайте вывод - интерпретацию - что можно увидеть из результата выполнения данного кода?`**\n",
        "\n",
        "Молодые клиенты с высшим образованием (магистры, доктора наук) совершают больше покупок:\n",
        "\n",
        "Например, в 1986–1995 гг. клиенты со степенью магистра совершали в среднем 2,5–2,43 покупки, а со степенью доктора философии — 1,5–1,67 покупки.\n",
        "\n",
        "\n",
        "Это может указывать на связь между высоким уровнем образования и активностью в сфере покупок (возможно, из-за доступа к цифровым платформам или более высокого дохода).\n",
        "\n",
        "\n",
        "Старшие возрастные группы (родившиеся до 1950-х годов) демонстрируют низкие или нулевые показатели покупок:\n",
        "\n",
        "\n",
        "Например, в 1899–1950 годах среднее количество покупок было близко к 0.0 для всех уровней образования.\n",
        "\n",
        "\n",
        "Это может быть обусловлено недостатком данных (малым количеством клиентов в этих группах) или реальным снижением активности у пожилых людей.\n",
        "\n",
        "\n",
        "Клиенты с базовым образованием (Basic) проявляют минимальную активность во всех возрастных категориях (чаще всего 0.0).\n"
      ]
    },
    {
      "cell_type": "markdown",
      "metadata": {
        "id": "tIkuqJKUniNs"
      },
      "source": [
        "---\n",
        "\n",
        "**Обратите внимание, что на защите вы должны ориентироваться в синтаксисе. При необходимости нужно быть готовым изменить код по просьбе преподавателя. Например, вместо среднего значения подсчитать медиану и т.д.**\n",
        "\n",
        "\n",
        " ---"
      ]
    },
    {
      "cell_type": "markdown",
      "metadata": {
        "id": "TpnXb6gip3S8"
      },
      "source": [
        "### Вывод"
      ]
    },
    {
      "cell_type": "markdown",
      "metadata": {
        "id": "nqLa096jM1Z8"
      },
      "source": [
        "\n",
        "***`Сделать расширенный вывод. `***\n",
        "\n",
        "Вывод должен описывать результаты исследования: какой набор данных вы анализировали (предметная область), какие методы предобработки применили, какие выводы из группировок и сводных таблиц можно сделать (они могут повторять выводы выше) и т.п. Объём вывода, как правило не более 0.5-0.75 страницы А4, всё таки вывод должен быть конкретным (без теории и “воды”).\n",
        "\n",
        "### Предметная область и набор данных\n",
        "Проанализирован набор данных клиентов (clients.csv), содержащий демографическую и поведенческую информацию о покупателях. Данные включали сведения о возрасте, образовании, семейном положении, доходе и количестве детей.\n",
        "\n",
        "### Предобработка данных\n",
        "- Выполнена проверка и корректировка названий столбцов\n",
        "- Обнаружены и обработаны пропуски: числовые данные заполнены медианными значениями, категориальные - модальными\n",
        "- Выявлены и устранены явные и неявные дубликаты записей\n",
        "- Обнаружены проблемы консистентности в категориальных данных (различные написания одних и тех же категорий)\n",
        "\n",
        "### Ключевые выводы из анализа\n",
        "1. **Демографический портрет клиентов**: Большинство клиентов имеют высшее образование (Graduation, Master, PhD) и состоят в браке (Married) или отношениях (Together).\n",
        "\n",
        "2. **Доход и семейное положение**: Обнаружен значительный разброс в среднем доходе между разными категориями семейного положения. Неожиданно высокий средний доход у категории \"SINGL\" (82,800) требует дополнительной проверки на корректность данных.\n",
        "\n",
        "3. **Дети и семейный статус**: Наибольшее количество детей зафиксировано у клиентов со статусом \"Married\" (140), что соответствует ожиданиям. Неожиданным является второе место по количеству детей у клиентов со статусом \"Single\" (79).\n"
      ]
    },
    {
      "cell_type": "markdown",
      "metadata": {
        "id": "Sn3y7og_vjGG"
      },
      "source": [
        "### Дополнительное задание"
      ]
    },
    {
      "cell_type": "markdown",
      "metadata": {
        "id": "rR6WgHXYvlqD"
      },
      "source": [
        "**`Подробная формулировка задания`**"
      ]
    },
    {
      "cell_type": "markdown",
      "metadata": {},
      "source": [
        "Задание 3.  Создать столбец - возраст (расчетный). Создать столбец “Категория\n",
        "возраста (Year_Birth)” (с помощью категоризации). Выделить минимум 3\n",
        "категории (молодой, старый, средний), фильтрацию для уровня возраста\n",
        "выбрать самостоятельно, аргументировать выбор. Создать сводную\n",
        "таблицу: средний и медианный Income по Marital_Status и категории\n",
        "возраста.\n"
      ]
    },
    {
      "cell_type": "markdown",
      "metadata": {},
      "source": [
        "1. **Вычисление текущего года**  \n",
        "   `datetime.now().year` - получает текущий год системного времени.\n",
        "\n",
        "2. **Создание столбца с возрастом**  \n",
        "   `df['age'] = current_year - df['birth_year']` - вычисляет возраст на основе года рождения.\n",
        "\n",
        "3. **Биннинг возраста**  \n",
        "   `pd.cut()` категоризирует возраст на три группы:\n",
        "   - **молодой**: [0, 30) лет\n",
        "   - **средний**: [30, 55) лет  \n",
        "   - **старший**: [55, 100) лет  \n",
        "   *Параметр `right=False` делает интервалы лево-замкнутыми (включает левую границу)*.\n",
        "\n",
        "4. **Построение сводной таблицы**  \n",
        "   `pd.pivot_table()` агрегирует данные:\n",
        "   - `values='income'` - анализируемый столбец\n",
        "   - `index=['marital_status', 'age_category']` - группирующие категории\n",
        "   - `aggfunc=['mean', 'median']` - применяемые функции агрегации"
      ]
    },
    {
      "cell_type": "code",
      "execution_count": 393,
      "metadata": {
        "id": "wG5TGQpevlBq"
      },
      "outputs": [
        {
          "name": "stderr",
          "output_type": "stream",
          "text": [
            "C:\\Users\\denis\\AppData\\Local\\Temp\\ipykernel_8432\\2765055656.py:11: FutureWarning: The default value of observed=False is deprecated and will change to observed=True in a future version of pandas. Specify observed=False to silence this warning and retain the current behavior\n",
            "  income_pivot = pd.pivot_table(\n",
            "C:\\Users\\denis\\AppData\\Local\\Temp\\ipykernel_8432\\2765055656.py:11: FutureWarning: The default value of observed=False is deprecated and will change to observed=True in a future version of pandas. Specify observed=False to silence this warning and retain the current behavior\n",
            "  income_pivot = pd.pivot_table(\n"
          ]
        },
        {
          "data": {
            "text/html": [
              "<div>\n",
              "<style scoped>\n",
              "    .dataframe tbody tr th:only-of-type {\n",
              "        vertical-align: middle;\n",
              "    }\n",
              "\n",
              "    .dataframe tbody tr th {\n",
              "        vertical-align: top;\n",
              "    }\n",
              "\n",
              "    .dataframe thead th {\n",
              "        text-align: right;\n",
              "    }\n",
              "</style>\n",
              "<table border=\"1\" class=\"dataframe\">\n",
              "  <thead>\n",
              "    <tr style=\"text-align: right;\">\n",
              "      <th></th>\n",
              "      <th></th>\n",
              "      <th>average_income</th>\n",
              "      <th>median_income</th>\n",
              "    </tr>\n",
              "    <tr>\n",
              "      <th>marital_status</th>\n",
              "      <th>age_category</th>\n",
              "      <th></th>\n",
              "      <th></th>\n",
              "    </tr>\n",
              "  </thead>\n",
              "  <tbody>\n",
              "    <tr>\n",
              "      <th rowspan=\"2\" valign=\"top\">Alone</th>\n",
              "      <th>средний</th>\n",
              "      <td>35018.00</td>\n",
              "      <td>35018.0</td>\n",
              "    </tr>\n",
              "    <tr>\n",
              "      <th>старший</th>\n",
              "      <td>61331.00</td>\n",
              "      <td>61331.0</td>\n",
              "    </tr>\n",
              "    <tr>\n",
              "      <th rowspan=\"2\" valign=\"top\">Divorced</th>\n",
              "      <th>средний</th>\n",
              "      <td>54620.62</td>\n",
              "      <td>53612.5</td>\n",
              "    </tr>\n",
              "    <tr>\n",
              "      <th>старший</th>\n",
              "      <td>54536.49</td>\n",
              "      <td>55614.0</td>\n",
              "    </tr>\n",
              "    <tr>\n",
              "      <th rowspan=\"2\" valign=\"top\">Married</th>\n",
              "      <th>средний</th>\n",
              "      <td>48773.72</td>\n",
              "      <td>43899.0</td>\n",
              "    </tr>\n",
              "    <tr>\n",
              "      <th>старший</th>\n",
              "      <td>57142.13</td>\n",
              "      <td>59111.0</td>\n",
              "    </tr>\n",
              "    <tr>\n",
              "      <th rowspan=\"2\" valign=\"top\">Single</th>\n",
              "      <th>средний</th>\n",
              "      <td>50630.65</td>\n",
              "      <td>46923.0</td>\n",
              "    </tr>\n",
              "    <tr>\n",
              "      <th>старший</th>\n",
              "      <td>51670.12</td>\n",
              "      <td>50954.5</td>\n",
              "    </tr>\n",
              "    <tr>\n",
              "      <th rowspan=\"2\" valign=\"top\">Together</th>\n",
              "      <th>средний</th>\n",
              "      <td>52320.60</td>\n",
              "      <td>50820.5</td>\n",
              "    </tr>\n",
              "    <tr>\n",
              "      <th>старший</th>\n",
              "      <td>55448.27</td>\n",
              "      <td>56191.0</td>\n",
              "    </tr>\n",
              "    <tr>\n",
              "      <th rowspan=\"2\" valign=\"top\">Widow</th>\n",
              "      <th>средний</th>\n",
              "      <td>47675.33</td>\n",
              "      <td>48295.5</td>\n",
              "    </tr>\n",
              "    <tr>\n",
              "      <th>старший</th>\n",
              "      <td>57481.26</td>\n",
              "      <td>53653.0</td>\n",
              "    </tr>\n",
              "  </tbody>\n",
              "</table>\n",
              "</div>"
            ],
            "text/plain": [
              "                             average_income  median_income\n",
              "marital_status age_category                               \n",
              "Alone          средний             35018.00        35018.0\n",
              "               старший             61331.00        61331.0\n",
              "Divorced       средний             54620.62        53612.5\n",
              "               старший             54536.49        55614.0\n",
              "Married        средний             48773.72        43899.0\n",
              "               старший             57142.13        59111.0\n",
              "Single         средний             50630.65        46923.0\n",
              "               старший             51670.12        50954.5\n",
              "Together       средний             52320.60        50820.5\n",
              "               старший             55448.27        56191.0\n",
              "Widow          средний             47675.33        48295.5\n",
              "               старший             57481.26        53653.0"
            ]
          },
          "metadata": {},
          "output_type": "display_data"
        }
      ],
      "source": [
        "# код выполнения задания\n",
        "from datetime import datetime\n",
        "\n",
        "current_year = datetime.now().year\n",
        "df['age'] = current_year - df['birth_year']\n",
        "\n",
        "age_bins = [0, 30, 55, 100]\n",
        "age_labels = ['молодой', 'средний', 'старший']\n",
        "df['age_category'] = pd.cut(df['age'], bins=age_bins, labels=age_labels, right=False)\n",
        "\n",
        "income_pivot = pd.pivot_table(\n",
        "    df,\n",
        "    values='income',\n",
        "    index=['marital_status', 'age_category'],\n",
        "    aggfunc=['mean', 'median']\n",
        ").round(2)\n",
        "\n",
        "income_pivot.columns = ['average_income', 'median_income']\n",
        "\n",
        "display(income_pivot)"
      ]
    },
    {
      "cell_type": "markdown",
      "metadata": {},
      "source": [
        "Для большинства категорий наблюдается значительный рост доходов в старшей возрастной группе\n",
        "\n",
        "Исключение составляют разведенные (Divorced), у которых доходы остаются практически неизменными\n",
        "\n",
        "Наиболее выраженный рост у одиноких (Alone) - увеличение дохода на 75%\n",
        "\n",
        "Влияние семейного положения:\n",
        "\n",
        "В средней возрастной группе лидерами являются разведенные (Divorced) и живущие вместе (Together)\n",
        "\n",
        "Разница между средним и медианным доходом минимальна, что свидетельствует о равномерном распределении доходов внутри групп"
      ]
    },
    {
      "cell_type": "markdown",
      "metadata": {},
      "source": [
        "Задание 13.  Создать столбец “Категория дохода (Income)” (с помощью категоризации).\n",
        "Выделить минимум 3 категории (высокий, низкий, средний), фильтрацию\n",
        "для уровня дохода выбрать самостоятельно, аргументировать выбор.\n",
        "Создать сводные таблицы: средний и медианный Income по категории\n",
        "дохода и Marital_Status.\n"
      ]
    },
    {
      "cell_type": "markdown",
      "metadata": {},
      "source": [
        "1. **Создание категорий дохода**  \n",
        "   `pd.cut()` делит доход на три категории:\n",
        "   - **низкий**: [0, 30000)\n",
        "   - **средний**: [30000, 70000)  \n",
        "   - **высокий**: [70000, +∞)\n",
        "   *Параметр `right=False` делает интервалы лево-замкнутыми*\n",
        "\n",
        "2. **Построение сводной таблицы**  \n",
        "   `pd.pivot_table()` агрегирует данные с:\n",
        "   - `values='income'` - анализируемая переменная\n",
        "   - `index=['income_category', 'marital_status']` - двухуровневая группировка\n",
        "   - `aggfunc=['mean', 'median']` - расчет среднего и медианного значения"
      ]
    },
    {
      "cell_type": "code",
      "execution_count": 394,
      "metadata": {},
      "outputs": [
        {
          "name": "stdout",
          "output_type": "stream",
          "text": [
            "Сводная таблица: средний и медианный доход по категориям дохода и семейному положению\n"
          ]
        },
        {
          "name": "stderr",
          "output_type": "stream",
          "text": [
            "C:\\Users\\denis\\AppData\\Local\\Temp\\ipykernel_8432\\3947398407.py:8: FutureWarning: The default value of observed=False is deprecated and will change to observed=True in a future version of pandas. Specify observed=False to silence this warning and retain the current behavior\n",
            "  income_pivot = pd.pivot_table(\n",
            "C:\\Users\\denis\\AppData\\Local\\Temp\\ipykernel_8432\\3947398407.py:8: FutureWarning: The default value of observed=False is deprecated and will change to observed=True in a future version of pandas. Specify observed=False to silence this warning and retain the current behavior\n",
            "  income_pivot = pd.pivot_table(\n"
          ]
        },
        {
          "data": {
            "text/html": [
              "<div>\n",
              "<style scoped>\n",
              "    .dataframe tbody tr th:only-of-type {\n",
              "        vertical-align: middle;\n",
              "    }\n",
              "\n",
              "    .dataframe tbody tr th {\n",
              "        vertical-align: top;\n",
              "    }\n",
              "\n",
              "    .dataframe thead th {\n",
              "        text-align: right;\n",
              "    }\n",
              "</style>\n",
              "<table border=\"1\" class=\"dataframe\">\n",
              "  <thead>\n",
              "    <tr style=\"text-align: right;\">\n",
              "      <th></th>\n",
              "      <th></th>\n",
              "      <th>average_income</th>\n",
              "      <th>median_income</th>\n",
              "    </tr>\n",
              "    <tr>\n",
              "      <th>income_category</th>\n",
              "      <th>marital_status</th>\n",
              "      <th></th>\n",
              "      <th></th>\n",
              "    </tr>\n",
              "  </thead>\n",
              "  <tbody>\n",
              "    <tr>\n",
              "      <th rowspan=\"5\" valign=\"top\">низкий</th>\n",
              "      <th>Divorced</th>\n",
              "      <td>17073.62</td>\n",
              "      <td>15068.0</td>\n",
              "    </tr>\n",
              "    <tr>\n",
              "      <th>Married</th>\n",
              "      <td>21759.51</td>\n",
              "      <td>22574.0</td>\n",
              "    </tr>\n",
              "    <tr>\n",
              "      <th>Single</th>\n",
              "      <td>22741.20</td>\n",
              "      <td>22694.5</td>\n",
              "    </tr>\n",
              "    <tr>\n",
              "      <th>Together</th>\n",
              "      <td>21746.41</td>\n",
              "      <td>23661.0</td>\n",
              "    </tr>\n",
              "    <tr>\n",
              "      <th>Widow</th>\n",
              "      <td>27229.50</td>\n",
              "      <td>27229.5</td>\n",
              "    </tr>\n",
              "    <tr>\n",
              "      <th rowspan=\"6\" valign=\"top\">средний</th>\n",
              "      <th>Alone</th>\n",
              "      <td>43789.00</td>\n",
              "      <td>35860.0</td>\n",
              "    </tr>\n",
              "    <tr>\n",
              "      <th>Divorced</th>\n",
              "      <td>50962.35</td>\n",
              "      <td>51074.0</td>\n",
              "    </tr>\n",
              "    <tr>\n",
              "      <th>Married</th>\n",
              "      <td>49923.64</td>\n",
              "      <td>50442.0</td>\n",
              "    </tr>\n",
              "    <tr>\n",
              "      <th>Single</th>\n",
              "      <td>48439.79</td>\n",
              "      <td>48503.5</td>\n",
              "    </tr>\n",
              "    <tr>\n",
              "      <th>Together</th>\n",
              "      <td>51347.02</td>\n",
              "      <td>51518.0</td>\n",
              "    </tr>\n",
              "    <tr>\n",
              "      <th>Widow</th>\n",
              "      <td>50569.15</td>\n",
              "      <td>49218.0</td>\n",
              "    </tr>\n",
              "    <tr>\n",
              "      <th rowspan=\"5\" valign=\"top\">высокий</th>\n",
              "      <th>Divorced</th>\n",
              "      <td>84939.06</td>\n",
              "      <td>81361.0</td>\n",
              "    </tr>\n",
              "    <tr>\n",
              "      <th>Married</th>\n",
              "      <td>80804.91</td>\n",
              "      <td>79336.0</td>\n",
              "    </tr>\n",
              "    <tr>\n",
              "      <th>Single</th>\n",
              "      <td>80170.97</td>\n",
              "      <td>79761.0</td>\n",
              "    </tr>\n",
              "    <tr>\n",
              "      <th>Together</th>\n",
              "      <td>81252.33</td>\n",
              "      <td>77845.0</td>\n",
              "    </tr>\n",
              "    <tr>\n",
              "      <th>Widow</th>\n",
              "      <td>77468.43</td>\n",
              "      <td>79800.0</td>\n",
              "    </tr>\n",
              "  </tbody>\n",
              "</table>\n",
              "</div>"
            ],
            "text/plain": [
              "                                average_income  median_income\n",
              "income_category marital_status                               \n",
              "низкий          Divorced              17073.62        15068.0\n",
              "                Married               21759.51        22574.0\n",
              "                Single                22741.20        22694.5\n",
              "                Together              21746.41        23661.0\n",
              "                Widow                 27229.50        27229.5\n",
              "средний         Alone                 43789.00        35860.0\n",
              "                Divorced              50962.35        51074.0\n",
              "                Married               49923.64        50442.0\n",
              "                Single                48439.79        48503.5\n",
              "                Together              51347.02        51518.0\n",
              "                Widow                 50569.15        49218.0\n",
              "высокий         Divorced              84939.06        81361.0\n",
              "                Married               80804.91        79336.0\n",
              "                Single                80170.97        79761.0\n",
              "                Together              81252.33        77845.0\n",
              "                Widow                 77468.43        79800.0"
            ]
          },
          "metadata": {},
          "output_type": "display_data"
        }
      ],
      "source": [
        "import pandas as pd\n",
        "import numpy as np\n",
        "\n",
        "income_bins = [0, 30000, 70000, np.inf]\n",
        "income_labels = ['низкий', 'средний', 'высокий']\n",
        "df['income_category'] = pd.cut(df['income'], bins=income_bins, labels=income_labels, right=False)\n",
        "\n",
        "income_pivot = pd.pivot_table(\n",
        "    df,\n",
        "    values='income',\n",
        "    index=['income_category', 'marital_status'],\n",
        "    aggfunc=['mean', 'median']\n",
        ").round(2)\n",
        "\n",
        "income_pivot.columns = ['average_income', 'median_income']\n",
        "\n",
        "print(\"Сводная таблица: средний и медианный доход по категориям дохода и семейному положению\")\n",
        "display(income_pivot)"
      ]
    },
    {
      "cell_type": "markdown",
      "metadata": {},
      "source": [
        "В категории низкого дохода наименьшие показатели у разведенных (Divorced), а наибольшие - у вдовцов (Widow)\n",
        "\n",
        "В средней категории доходы достаточно равномерно распределены между разными семейными статусами\n",
        "\n",
        "В высокой категории наблюдается значительный рост доходов, особенно у разведенных (средний доход 84.9 тыс.)\n",
        "\n",
        "Семейное положение оказывает заметное влияние на уровень доходов, при этом разведенные демонстрируют наибольшую вариативность - от минимальных доходов в низкой категории до максимальных в высокой."
      ]
    },
    {
      "cell_type": "markdown",
      "metadata": {},
      "source": [
        "Задание 25. Создать столбец - срок с момента регистрации клиента в компании\n",
        "(расчетный). Создать с помощью этого столбца столбец “Категория\n",
        "клиента” (с помощью категоризации). Выделить минимум 3 категории\n",
        "(новый, старый, средний), фильтрацию для уровня лет после регистрации\n",
        "выбрать самостоятельно, аргументировать выбор. Создать столбец\n",
        "“Категория дохода (Income)” (с помощью категоризации). Выделить\n",
        "минимум 3 категории (высокий, низкий, средний), фильтрацию для уровня\n",
        "дохода выбрать самостоятельно, аргументировать выбор. Выполнить\n",
        "фильтрацию: выбрать записи только со средним и высоким доходом +\n",
        "новых клиентов + топ 2 семейных статуса (Marital_Status) по среднему\n",
        "пребыванию в компании + топ 3 типа образования по среднему доходу.\n",
        "Создать сводные таблицы: средний и медианный Income по Education и\n",
        "Marital_Status; средний доход по категории клиента и Education"
      ]
    },
    {
      "cell_type": "markdown",
      "metadata": {},
      "source": [
        "1. **Расчет длительности клиентства**  \n",
        "   - Преобразование даты начала клиентства в datetime объект\n",
        "   - Вычисление длительности в годах с учетом високосных лет (деление на 365.25)\n",
        "\n",
        "2. **Категоризация клиентов**  \n",
        "   `pd.cut()` создает три категории:\n",
        "   - новый: [0, 1) год\n",
        "   - средний: [1, 3) года  \n",
        "   - старый: [3, +∞) лет\n",
        "\n",
        "3. **Категоризация дохода**  \n",
        "   Создание трех income групп:\n",
        "   - низкий: [0, 40000)\n",
        "   - средний: [40000, 80000)  \n",
        "   - высокий: [80000, +∞)\n",
        "\n",
        "4. **Определение топ-групп**  \n",
        "   - `top_marital`: 2 семейных статуса с наибольшей средней длительностью клиентства\n",
        "   - `top_education`: 3 типа образования с наибольшим средним доходом\n",
        "\n",
        "5. **Многоуровневая фильтрация**  \n",
        "   Фильтр включает клиентов которые:\n",
        "   - Имеют средний или высокий доход\n",
        "   - Являются новыми клиентами (< 1 года)\n",
        "   - Принадлежат к топ-2 семейных статусов\n",
        "   - Имеют топ-3 типа образования\n",
        "\n",
        "6. **Построение сводных таблиц**  \n",
        "   - `pivot1`: Средний и медианный доход по образованию и семейному положению\n",
        "   - `pivot2`: Средний доход по категории клиента и образованию"
      ]
    },
    {
      "cell_type": "code",
      "execution_count": 395,
      "metadata": {},
      "outputs": [
        {
          "name": "stderr",
          "output_type": "stream",
          "text": [
            "C:\\Users\\denis\\AppData\\Local\\Temp\\ipykernel_8432\\1811543351.py:14: FutureWarning: The default of observed=False is deprecated and will be changed to True in a future version of pandas. Pass observed=False to retain current behavior or observed=True to adopt the future default and silence this warning.\n",
            "  top_marital = df.groupby('marital_status')['membership_duration'].mean().nlargest(2).index.tolist()\n"
          ]
        },
        {
          "name": "stdout",
          "output_type": "stream",
          "text": [
            "Топ-2 семейных статуса по среднему пребыванию: ['Divorced', 'Together']\n",
            "Топ-3 типа образования по среднему доходу: ['PhD', 'Master', 'Graduation']\n",
            "Количество записей после фильтрации: 0\n",
            "\n",
            "Сводная таблица 1: Средний и медианный доход по образованию и семейному положению\n"
          ]
        },
        {
          "name": "stderr",
          "output_type": "stream",
          "text": [
            "C:\\Users\\denis\\AppData\\Local\\Temp\\ipykernel_8432\\1811543351.py:17: FutureWarning: The default of observed=False is deprecated and will be changed to True in a future version of pandas. Pass observed=False to retain current behavior or observed=True to adopt the future default and silence this warning.\n",
            "  top_education = df.groupby('education')['income'].mean().nlargest(3).index.tolist()\n",
            "C:\\Users\\denis\\AppData\\Local\\Temp\\ipykernel_8432\\1811543351.py:26: FutureWarning: The default value of observed=False is deprecated and will change to observed=True in a future version of pandas. Specify observed=False to silence this warning and retain the current behavior\n",
            "  pivot1 = pd.pivot_table(\n",
            "C:\\Users\\denis\\AppData\\Local\\Temp\\ipykernel_8432\\1811543351.py:26: FutureWarning: The default value of observed=False is deprecated and will change to observed=True in a future version of pandas. Specify observed=False to silence this warning and retain the current behavior\n",
            "  pivot1 = pd.pivot_table(\n",
            "C:\\Users\\denis\\AppData\\Local\\Temp\\ipykernel_8432\\1811543351.py:33: FutureWarning: The default value of observed=False is deprecated and will change to observed=True in a future version of pandas. Specify observed=False to silence this warning and retain the current behavior\n",
            "  pivot2 = pd.pivot_table(\n"
          ]
        },
        {
          "data": {
            "text/html": [
              "<div>\n",
              "<style scoped>\n",
              "    .dataframe tbody tr th:only-of-type {\n",
              "        vertical-align: middle;\n",
              "    }\n",
              "\n",
              "    .dataframe tbody tr th {\n",
              "        vertical-align: top;\n",
              "    }\n",
              "\n",
              "    .dataframe thead tr th {\n",
              "        text-align: left;\n",
              "    }\n",
              "\n",
              "    .dataframe thead tr:last-of-type th {\n",
              "        text-align: right;\n",
              "    }\n",
              "</style>\n",
              "<table border=\"1\" class=\"dataframe\">\n",
              "  <thead>\n",
              "    <tr>\n",
              "      <th>education</th>\n",
              "      <th>marital_status</th>\n",
              "    </tr>\n",
              "  </thead>\n",
              "  <tbody>\n",
              "  </tbody>\n",
              "</table>\n",
              "</div>"
            ],
            "text/plain": [
              "Empty DataFrame\n",
              "Columns: []\n",
              "Index: []"
            ]
          },
          "metadata": {},
          "output_type": "display_data"
        },
        {
          "name": "stdout",
          "output_type": "stream",
          "text": [
            "\n",
            "Сводная таблица 2: Средний доход по категории клиента и образованию\n"
          ]
        },
        {
          "data": {
            "text/html": [
              "<div>\n",
              "<style scoped>\n",
              "    .dataframe tbody tr th:only-of-type {\n",
              "        vertical-align: middle;\n",
              "    }\n",
              "\n",
              "    .dataframe tbody tr th {\n",
              "        vertical-align: top;\n",
              "    }\n",
              "\n",
              "    .dataframe thead th {\n",
              "        text-align: right;\n",
              "    }\n",
              "</style>\n",
              "<table border=\"1\" class=\"dataframe\">\n",
              "  <thead>\n",
              "    <tr style=\"text-align: right;\">\n",
              "      <th></th>\n",
              "      <th></th>\n",
              "    </tr>\n",
              "    <tr>\n",
              "      <th>customer_category</th>\n",
              "      <th>education</th>\n",
              "    </tr>\n",
              "  </thead>\n",
              "  <tbody>\n",
              "  </tbody>\n",
              "</table>\n",
              "</div>"
            ],
            "text/plain": [
              "Empty DataFrame\n",
              "Columns: []\n",
              "Index: []"
            ]
          },
          "metadata": {},
          "output_type": "display_data"
        }
      ],
      "source": [
        "current_date = datetime.now()\n",
        "df['customer_since_dt'] = pd.to_datetime(df['customer_since'])\n",
        "df['membership_duration'] = (current_date - df['customer_since_dt']).dt.days / 365.25 \n",
        "\n",
        "duration_bins = [0, 1, 3, np.inf]\n",
        "duration_labels = ['новый', 'средний', 'старый']\n",
        "df['customer_category'] = pd.cut(df['membership_duration'], bins=duration_bins, labels=duration_labels, right=False)\n",
        "\n",
        "income_bins = [0, 40000, 80000, np.inf]\n",
        "income_labels = ['низкий', 'средний', 'высокий']\n",
        "df['income_category'] = pd.cut(df['income'], bins=income_bins, labels=income_labels, right=False)\n",
        "\n",
        "# Определяем топ-2 семейных статуса по среднему пребыванию в компании\n",
        "top_marital = df.groupby('marital_status')['membership_duration'].mean().nlargest(2).index.tolist()\n",
        "\n",
        "# Определяем топ-3 типа образования по среднему доходу\n",
        "top_education = df.groupby('education')['income'].mean().nlargest(3).index.tolist()\n",
        "\n",
        "filtered_df = df[\n",
        "    (df['income_category'].isin(['средний', 'высокий'])) &  \n",
        "    (df['customer_category'] == 'новый') &  \n",
        "    (df['marital_status'].isin(top_marital)) &  \n",
        "    (df['education'].isin(top_education))  \n",
        "]\n",
        "\n",
        "pivot1 = pd.pivot_table(\n",
        "    filtered_df,\n",
        "    values='income',\n",
        "    index=['education', 'marital_status'],\n",
        "    aggfunc=['mean', 'median']\n",
        ").round(2)\n",
        "\n",
        "pivot2 = pd.pivot_table(\n",
        "    filtered_df,\n",
        "    values='income',\n",
        "    index=['customer_category', 'education'],\n",
        "    aggfunc='mean'\n",
        ").round(2)\n",
        "\n",
        "print(\"Топ-2 семейных статуса по среднему пребыванию:\", top_marital)\n",
        "print(\"Топ-3 типа образования по среднему доходу:\", top_education)\n",
        "print(f\"Количество записей после фильтрации: {len(filtered_df)}\")\n",
        "print(\"\\nСводная таблица 1: Средний и медианный доход по образованию и семейному положению\")\n",
        "display(pivot1)\n",
        "print(\"\\nСводная таблица 2: Средний доход по категории клиента и образованию\")\n",
        "display(pivot2)"
      ]
    },
    {
      "cell_type": "markdown",
      "metadata": {},
      "source": [
        "После применения всех фильтров не осталось ни одной записи (0 записей), что указывает на слишком строгие условия отбора."
      ]
    }
  ],
  "metadata": {
    "colab": {
      "provenance": []
    },
    "kernelspec": {
      "display_name": "Python (analis_lab_env)",
      "language": "python",
      "name": "analis_course_env"
    },
    "language_info": {
      "codemirror_mode": {
        "name": "ipython",
        "version": 3
      },
      "file_extension": ".py",
      "mimetype": "text/x-python",
      "name": "python",
      "nbconvert_exporter": "python",
      "pygments_lexer": "ipython3",
      "version": "3.13.0"
    }
  },
  "nbformat": 4,
  "nbformat_minor": 0
}
